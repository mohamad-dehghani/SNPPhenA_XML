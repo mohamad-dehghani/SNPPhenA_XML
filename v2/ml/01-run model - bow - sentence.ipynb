{
 "cells": [
  {
   "cell_type": "code",
   "execution_count": 2,
   "metadata": {
    "colab": {
     "base_uri": "https://localhost:8080/",
     "height": 74
    },
    "colab_type": "code",
    "id": "QKrP__u3PTar",
    "outputId": "7a5a6510-5807-404c-e1e6-a9afbc22d700"
   },
   "outputs": [],
   "source": [
    "import re\n",
    "import pandas as pd\n",
    "from sklearn.svm import SVC\n",
    "from sklearn.linear_model import LogisticRegression\n",
    "from sklearn.ensemble import RandomForestClassifier\n",
    "from sklearn.feature_extraction.text import CountVectorizer\n",
    "from sklearn.model_selection import train_test_split\n",
    "from sklearn.metrics import confusion_matrix, classification_report, accuracy_score, f1_score, recall_score, precision_score\n",
    "from sklearn.utils import shuffle\n",
    "from sklearn.neighbors import KNeighborsClassifier\n",
    "from sklearn.naive_bayes import GaussianNB\n",
    "from sklearn.tree import DecisionTreeClassifier\n",
    "from sklearn.ensemble import GradientBoostingClassifier"
   ]
  },
  {
   "cell_type": "code",
   "execution_count": 3,
   "metadata": {},
   "outputs": [],
   "source": [
    "import warnings\n",
    "warnings.filterwarnings(\"ignore\")"
   ]
  },
  {
   "cell_type": "code",
   "execution_count": 4,
   "metadata": {},
   "outputs": [],
   "source": [
    "feature_type = '1'\n",
    "\n",
    "#1 -> just sentence\n",
    "#2 -> all text"
   ]
  },
  {
   "cell_type": "code",
   "execution_count": 5,
   "metadata": {},
   "outputs": [],
   "source": [
    "target_type = 1\n",
    "#1 -> pos"
   ]
  },
  {
   "cell_type": "code",
   "execution_count": 6,
   "metadata": {},
   "outputs": [],
   "source": [
    "train = pd.read_csv('train.csv')\n",
    "test  = pd.read_csv('test.csv')"
   ]
  },
  {
   "cell_type": "code",
   "execution_count": 7,
   "metadata": {},
   "outputs": [
    {
     "data": {
      "text/html": [
       "<div>\n",
       "<style scoped>\n",
       "    .dataframe tbody tr th:only-of-type {\n",
       "        vertical-align: middle;\n",
       "    }\n",
       "\n",
       "    .dataframe tbody tr th {\n",
       "        vertical-align: top;\n",
       "    }\n",
       "\n",
       "    .dataframe thead th {\n",
       "        text-align: right;\n",
       "    }\n",
       "</style>\n",
       "<table border=\"1\" class=\"dataframe\">\n",
       "  <thead>\n",
       "    <tr style=\"text-align: right;\">\n",
       "      <th></th>\n",
       "      <th>text</th>\n",
       "      <th>sentence</th>\n",
       "      <th>snp</th>\n",
       "      <th>phenotype</th>\n",
       "      <th>ASSOCIATION</th>\n",
       "      <th>CONFIDENCE</th>\n",
       "    </tr>\n",
       "  </thead>\n",
       "  <tbody>\n",
       "    <tr>\n",
       "      <th>0</th>\n",
       "      <td>OBJECTIVE: Maternal smoking during pregnancy i...</td>\n",
       "      <td>We examined whether a common genetic variant a...</td>\n",
       "      <td>rs1051730</td>\n",
       "      <td>nicotine metabolism</td>\n",
       "      <td>neutral</td>\n",
       "      <td>zero</td>\n",
       "    </tr>\n",
       "    <tr>\n",
       "      <th>1</th>\n",
       "      <td>OBJECTIVE: Maternal smoking during pregnancy i...</td>\n",
       "      <td>We examined whether a common genetic variant a...</td>\n",
       "      <td>rs1051730</td>\n",
       "      <td>fetal growth characteristics</td>\n",
       "      <td>positive</td>\n",
       "      <td>weak</td>\n",
       "    </tr>\n",
       "    <tr>\n",
       "      <th>2</th>\n",
       "      <td>OBJECTIVE: Maternal smoking during pregnancy i...</td>\n",
       "      <td>RESULTS: Among mothers who did not smoke durin...</td>\n",
       "      <td>rs1051730</td>\n",
       "      <td>fetal growth characteristic</td>\n",
       "      <td>negative</td>\n",
       "      <td>-</td>\n",
       "    </tr>\n",
       "    <tr>\n",
       "      <th>3</th>\n",
       "      <td>OBJECTIVE: Maternal smoking during pregnancy i...</td>\n",
       "      <td>Among mothers who continued smoking during pre...</td>\n",
       "      <td>rs1051730</td>\n",
       "      <td>head circumference</td>\n",
       "      <td>negative</td>\n",
       "      <td>-</td>\n",
       "    </tr>\n",
       "    <tr>\n",
       "      <th>4</th>\n",
       "      <td>OBJECTIVE: Maternal smoking during pregnancy i...</td>\n",
       "      <td>The T-allele of maternal rs1051730 was associa...</td>\n",
       "      <td>rs1051730</td>\n",
       "      <td>second and third trimester fetal femur length</td>\n",
       "      <td>positive</td>\n",
       "      <td>weak</td>\n",
       "    </tr>\n",
       "  </tbody>\n",
       "</table>\n",
       "</div>"
      ],
      "text/plain": [
       "                                                text  \\\n",
       "0  OBJECTIVE: Maternal smoking during pregnancy i...   \n",
       "1  OBJECTIVE: Maternal smoking during pregnancy i...   \n",
       "2  OBJECTIVE: Maternal smoking during pregnancy i...   \n",
       "3  OBJECTIVE: Maternal smoking during pregnancy i...   \n",
       "4  OBJECTIVE: Maternal smoking during pregnancy i...   \n",
       "\n",
       "                                            sentence        snp  \\\n",
       "0  We examined whether a common genetic variant a...  rs1051730   \n",
       "1  We examined whether a common genetic variant a...  rs1051730   \n",
       "2  RESULTS: Among mothers who did not smoke durin...  rs1051730   \n",
       "3  Among mothers who continued smoking during pre...  rs1051730   \n",
       "4  The T-allele of maternal rs1051730 was associa...  rs1051730   \n",
       "\n",
       "                                       phenotype ASSOCIATION CONFIDENCE  \n",
       "0                            nicotine metabolism     neutral       zero  \n",
       "1                   fetal growth characteristics    positive       weak  \n",
       "2                    fetal growth characteristic    negative          -  \n",
       "3                             head circumference    negative          -  \n",
       "4  second and third trimester fetal femur length    positive       weak  "
      ]
     },
     "execution_count": 7,
     "metadata": {},
     "output_type": "execute_result"
    }
   ],
   "source": [
    "train.head()"
   ]
  },
  {
   "cell_type": "code",
   "execution_count": 8,
   "metadata": {},
   "outputs": [],
   "source": [
    "train['label'] = train['CONFIDENCE']\n",
    "test['label']  = test['CONFIDENCE']"
   ]
  },
  {
   "cell_type": "code",
   "execution_count": 9,
   "metadata": {},
   "outputs": [],
   "source": [
    "train.dropna(subset=['sentence'], inplace=True)\n",
    "test.dropna(subset=['sentence'], inplace=True)"
   ]
  },
  {
   "cell_type": "code",
   "execution_count": 10,
   "metadata": {},
   "outputs": [],
   "source": [
    "train = train[train.ASSOCIATION == 'positive']\n",
    "test  =  test[test.ASSOCIATION  == 'positive']"
   ]
  },
  {
   "cell_type": "code",
   "execution_count": 11,
   "metadata": {},
   "outputs": [],
   "source": [
    "res = pd.read_excel('res.xlsx')"
   ]
  },
  {
   "cell_type": "code",
   "execution_count": 12,
   "metadata": {
    "colab": {},
    "colab_type": "code",
    "id": "NGDxcs86mGhi"
   },
   "outputs": [],
   "source": [
    "def vectorize_bow(df_X, cv):\n",
    "    bow_X = cv.transform(df_X)\n",
    "    bow_df = pd.DataFrame(data=bow_X.toarray(),\n",
    "                          columns=[cv.get_feature_names_out()])\n",
    "    return bow_df\n",
    "\n",
    "def define_and_run_model(model, X_train, X_test, y_train):\n",
    "    clf = model\n",
    "    clf.fit(X_train, y_train)\n",
    "    y_pred = clf.predict(X_test)\n",
    "    return y_pred\n",
    "\n",
    "def show_result(y_pred, y_test):\n",
    "    print(confusion_matrix(y_test, y_pred))\n",
    "    print(classification_report(y_test, y_pred, digits=3))\n",
    "    print(accuracy_score(y_test, y_pred))\n",
    "    \n",
    "def save_res(model_name, feature_type, target_type, y_pred_sr, y_test_sr, idx):\n",
    "    res_pre = precision_score(y_test_sr, y_pred_sr, average='weighted')\n",
    "    res_rec = recall_score(y_test_sr, y_pred_sr, average='weighted')\n",
    "    res_f1 = f1_score(y_test_sr, y_pred_sr, average='weighted')\n",
    "    res.at[idx, 'model-name'] = model_name\n",
    "    res.at[idx, 'feature-type'] = feature_type\n",
    "    res.at[idx, 'target-type'] = target_type\n",
    "    res.at[idx, 'accuracy'] = accuracy_score(y_test_sr, y_pred_sr)\n",
    "    res.at[idx, 'precision'] = res_pre\n",
    "    res.at[idx, 'recall'] = res_rec\n",
    "    res.at[idx, 'f1-score'] = res_f1"
   ]
  },
  {
   "cell_type": "code",
   "execution_count": 13,
   "metadata": {},
   "outputs": [],
   "source": [
    "possible_labels = train.label.unique()\n",
    "\n",
    "label_dict = {}\n",
    "for index, possible_label in enumerate(possible_labels):\n",
    "    label_dict[possible_label] = index\n",
    "\n",
    "train['label'] = train.label.replace(label_dict)\n",
    "test['label']  = test.label.replace(label_dict)"
   ]
  },
  {
   "cell_type": "code",
   "execution_count": 14,
   "metadata": {},
   "outputs": [],
   "source": [
    "df = pd.concat([train, test])"
   ]
  },
  {
   "cell_type": "code",
   "execution_count": 15,
   "metadata": {},
   "outputs": [
    {
     "data": {
      "text/plain": [
       "CountVectorizer(lowercase=False, max_df=0.8)"
      ]
     },
     "execution_count": 15,
     "metadata": {},
     "output_type": "execute_result"
    }
   ],
   "source": [
    "bow_vectorizer = CountVectorizer(lowercase=False, \n",
    "                                 ngram_range=(1, 1),\n",
    "                                 max_df=.80,\n",
    "                                 min_df=1)\n",
    "bow_vectorizer.fit(df['sentence'])"
   ]
  },
  {
   "cell_type": "code",
   "execution_count": 16,
   "metadata": {},
   "outputs": [],
   "source": [
    "train_bow_df  = vectorize_bow(list(train['sentence']), bow_vectorizer)\n",
    "test_bow_df   = vectorize_bow(list(test['sentence']), bow_vectorizer)"
   ]
  },
  {
   "cell_type": "code",
   "execution_count": 17,
   "metadata": {},
   "outputs": [],
   "source": [
    "X_train = train_bow_df\n",
    "y_train = train['label']"
   ]
  },
  {
   "cell_type": "code",
   "execution_count": 18,
   "metadata": {},
   "outputs": [],
   "source": [
    "X_test = test_bow_df\n",
    "y_test = test['label']"
   ]
  },
  {
   "cell_type": "code",
   "execution_count": 19,
   "metadata": {},
   "outputs": [
    {
     "data": {
      "text/plain": [
       "(701, 2402)"
      ]
     },
     "execution_count": 19,
     "metadata": {},
     "output_type": "execute_result"
    }
   ],
   "source": [
    "X_train.shape"
   ]
  },
  {
   "cell_type": "code",
   "execution_count": 20,
   "metadata": {},
   "outputs": [
    {
     "data": {
      "text/plain": [
       "(701,)"
      ]
     },
     "execution_count": 20,
     "metadata": {},
     "output_type": "execute_result"
    }
   ],
   "source": [
    "y_train.shape"
   ]
  },
  {
   "cell_type": "code",
   "execution_count": 21,
   "metadata": {},
   "outputs": [
    {
     "data": {
      "text/plain": [
       "(170, 2402)"
      ]
     },
     "execution_count": 21,
     "metadata": {},
     "output_type": "execute_result"
    }
   ],
   "source": [
    "X_test.shape"
   ]
  },
  {
   "cell_type": "code",
   "execution_count": 22,
   "metadata": {},
   "outputs": [
    {
     "data": {
      "text/plain": [
       "(170,)"
      ]
     },
     "execution_count": 22,
     "metadata": {},
     "output_type": "execute_result"
    }
   ],
   "source": [
    "y_test.shape"
   ]
  },
  {
   "cell_type": "code",
   "execution_count": 23,
   "metadata": {},
   "outputs": [
    {
     "data": {
      "text/plain": [
       "0    140\n",
       "2     16\n",
       "1     14\n",
       "Name: label, dtype: int64"
      ]
     },
     "execution_count": 23,
     "metadata": {},
     "output_type": "execute_result"
    }
   ],
   "source": [
    "test['label'].value_counts()"
   ]
  },
  {
   "cell_type": "code",
   "execution_count": 24,
   "metadata": {},
   "outputs": [
    {
     "name": "stdout",
     "output_type": "stream",
     "text": [
      "[[133   7   0]\n",
      " [ 10   4   0]\n",
      " [ 16   0   0]]\n",
      "              precision    recall  f1-score   support\n",
      "\n",
      "           0      0.836     0.950     0.890       140\n",
      "           1      0.364     0.286     0.320        14\n",
      "           2      0.000     0.000     0.000        16\n",
      "\n",
      "    accuracy                          0.806       170\n",
      "   macro avg      0.400     0.412     0.403       170\n",
      "weighted avg      0.719     0.806     0.759       170\n",
      "\n",
      "0.8058823529411765\n",
      "Wall time: 1.07 s\n"
     ]
    }
   ],
   "source": [
    "%%time\n",
    "smodel = SVC(kernel='rbf')\n",
    "smodel.fit(X_train, y_train)\n",
    "pred_values_svm = smodel.predict(X_test)\n",
    "show_result(pred_values_svm, y_test)\n",
    "save_res('svm', feature_type, target_type, pred_values_svm, y_test, len(res))"
   ]
  },
  {
   "cell_type": "code",
   "execution_count": 25,
   "metadata": {},
   "outputs": [
    {
     "name": "stdout",
     "output_type": "stream",
     "text": [
      "[[117  23   0]\n",
      " [  5   9   0]\n",
      " [ 14   2   0]]\n",
      "              precision    recall  f1-score   support\n",
      "\n",
      "           0      0.860     0.836     0.848       140\n",
      "           1      0.265     0.643     0.375        14\n",
      "           2      0.000     0.000     0.000        16\n",
      "\n",
      "    accuracy                          0.741       170\n",
      "   macro avg      0.375     0.493     0.408       170\n",
      "weighted avg      0.730     0.741     0.729       170\n",
      "\n",
      "0.7411764705882353\n",
      "Wall time: 475 ms\n"
     ]
    }
   ],
   "source": [
    "%%time\n",
    "lr = LogisticRegression(random_state=0,\n",
    "                        penalty='l2',\n",
    "                        solver='newton-cg',\n",
    "                        C=1.2,\n",
    "                        max_iter=20)\n",
    "lr.fit(X_train, y_train)\n",
    "pred_values_lr = lr.predict(X_test)\n",
    "show_result(pred_values_lr, y_test)\n",
    "save_res('LogisticRegression', feature_type, target_type, pred_values_lr, y_test, len(res))"
   ]
  },
  {
   "cell_type": "code",
   "execution_count": 26,
   "metadata": {},
   "outputs": [
    {
     "name": "stdout",
     "output_type": "stream",
     "text": [
      "[[140   0   0]\n",
      " [  5   9   0]\n",
      " [ 11   5   0]]\n",
      "              precision    recall  f1-score   support\n",
      "\n",
      "           0      0.897     1.000     0.946       140\n",
      "           1      0.643     0.643     0.643        14\n",
      "           2      0.000     0.000     0.000        16\n",
      "\n",
      "    accuracy                          0.876       170\n",
      "   macro avg      0.513     0.548     0.530       170\n",
      "weighted avg      0.792     0.876     0.832       170\n",
      "\n",
      "0.8764705882352941\n",
      "Wall time: 1.45 s\n"
     ]
    }
   ],
   "source": [
    "%%time\n",
    "model = RandomForestClassifier(n_estimators=100)\n",
    "model.fit(X_train, y_train)\n",
    "pred_values_rf = model.predict(X_test)\n",
    "show_result(pred_values_rf, y_test)\n",
    "save_res('RandomForest', feature_type, target_type, pred_values_rf, y_test, len(res))"
   ]
  },
  {
   "cell_type": "code",
   "execution_count": 27,
   "metadata": {},
   "outputs": [
    {
     "name": "stdout",
     "output_type": "stream",
     "text": [
      "[[123  16   1]\n",
      " [ 11   3   0]\n",
      " [ 15   1   0]]\n",
      "              precision    recall  f1-score   support\n",
      "\n",
      "           0      0.826     0.879     0.851       140\n",
      "           1      0.150     0.214     0.176        14\n",
      "           2      0.000     0.000     0.000        16\n",
      "\n",
      "    accuracy                          0.741       170\n",
      "   macro avg      0.325     0.364     0.343       170\n",
      "weighted avg      0.692     0.741     0.716       170\n",
      "\n",
      "0.7411764705882353\n",
      "Wall time: 84.7 ms\n"
     ]
    }
   ],
   "source": [
    "%%time\n",
    "model = KNeighborsClassifier(n_neighbors=2)\n",
    "model.fit(X_train, y_train)\n",
    "pred_values_knn = model.predict(X_test)\n",
    "show_result(pred_values_knn, y_test)\n",
    "save_res('knn', feature_type, target_type, pred_values_knn, y_test, len(res))"
   ]
  },
  {
   "cell_type": "code",
   "execution_count": 28,
   "metadata": {},
   "outputs": [
    {
     "name": "stdout",
     "output_type": "stream",
     "text": [
      "[[66 69  5]\n",
      " [ 3 10  1]\n",
      " [11  4  1]]\n",
      "              precision    recall  f1-score   support\n",
      "\n",
      "           0      0.825     0.471     0.600       140\n",
      "           1      0.120     0.714     0.206        14\n",
      "           2      0.143     0.062     0.087        16\n",
      "\n",
      "    accuracy                          0.453       170\n",
      "   macro avg      0.363     0.416     0.298       170\n",
      "weighted avg      0.703     0.453     0.519       170\n",
      "\n",
      "0.45294117647058824\n",
      "Wall time: 140 ms\n"
     ]
    }
   ],
   "source": [
    "%%time\n",
    "model = GaussianNB()\n",
    "model.fit(X_train, y_train)\n",
    "pred_values_nb = model.predict(X_test)\n",
    "show_result(pred_values_nb, y_test)\n",
    "save_res('GaussianNB', feature_type, target_type, pred_values_nb, y_test, len(res))"
   ]
  },
  {
   "cell_type": "code",
   "execution_count": 29,
   "metadata": {},
   "outputs": [
    {
     "name": "stdout",
     "output_type": "stream",
     "text": [
      "[[108  30   2]\n",
      " [  4  10   0]\n",
      " [  9   6   1]]\n",
      "              precision    recall  f1-score   support\n",
      "\n",
      "           0      0.893     0.771     0.828       140\n",
      "           1      0.217     0.714     0.333        14\n",
      "           2      0.333     0.062     0.105        16\n",
      "\n",
      "    accuracy                          0.700       170\n",
      "   macro avg      0.481     0.516     0.422       170\n",
      "weighted avg      0.784     0.700     0.719       170\n",
      "\n",
      "0.7\n",
      "Wall time: 183 ms\n"
     ]
    }
   ],
   "source": [
    "%%time\n",
    "model = DecisionTreeClassifier(random_state=0)\n",
    "model.fit(X_train, y_train)\n",
    "pred_values_dt = model.predict(X_test)\n",
    "show_result(pred_values_dt, y_test)\n",
    "save_res('DecisionTree', feature_type, target_type, pred_values_dt, y_test, len(res))"
   ]
  },
  {
   "cell_type": "code",
   "execution_count": 30,
   "metadata": {},
   "outputs": [
    {
     "name": "stdout",
     "output_type": "stream",
     "text": [
      "[[122  15   3]\n",
      " [  4   8   2]\n",
      " [ 14   1   1]]\n",
      "              precision    recall  f1-score   support\n",
      "\n",
      "           0      0.871     0.871     0.871       140\n",
      "           1      0.333     0.571     0.421        14\n",
      "           2      0.167     0.062     0.091        16\n",
      "\n",
      "    accuracy                          0.771       170\n",
      "   macro avg      0.457     0.502     0.461       170\n",
      "weighted avg      0.761     0.771     0.761       170\n",
      "\n",
      "0.7705882352941177\n",
      "Wall time: 6.44 s\n"
     ]
    }
   ],
   "source": [
    "%%time\n",
    "model = GradientBoostingClassifier(n_estimators=100, learning_rate=1.0, max_depth=1, random_state=0)\n",
    "model.fit(X_train, y_train)\n",
    "pred_values_gb = model.predict(X_test)\n",
    "show_result(pred_values_gb, y_test)\n",
    "save_res('GradientBoosting', feature_type, target_type, pred_values_gb, y_test, len(res))"
   ]
  },
  {
   "cell_type": "code",
   "execution_count": null,
   "metadata": {},
   "outputs": [],
   "source": [
    "import os\n",
    "os.remove(\"res.xlsx\") \n",
    "\n",
    "res.to_excel('res.xlsx', index=False)"
   ]
  },
  {
   "cell_type": "code",
   "execution_count": null,
   "metadata": {},
   "outputs": [],
   "source": []
  },
  {
   "cell_type": "code",
   "execution_count": null,
   "metadata": {},
   "outputs": [],
   "source": []
  }
 ],
 "metadata": {
  "colab": {
   "name": "deep.ipynb",
   "provenance": [],
   "toc_visible": true
  },
  "kernelspec": {
   "display_name": "Python 3 (ipykernel)",
   "language": "python",
   "name": "python3"
  },
  "language_info": {
   "codemirror_mode": {
    "name": "ipython",
    "version": 3
   },
   "file_extension": ".py",
   "mimetype": "text/x-python",
   "name": "python",
   "nbconvert_exporter": "python",
   "pygments_lexer": "ipython3",
   "version": "3.9.6"
  }
 },
 "nbformat": 4,
 "nbformat_minor": 1
}
