{
 "cells": [
  {
   "cell_type": "code",
   "execution_count": 1,
   "metadata": {
    "colab": {
     "base_uri": "https://localhost:8080/",
     "height": 74
    },
    "colab_type": "code",
    "id": "QKrP__u3PTar",
    "outputId": "7a5a6510-5807-404c-e1e6-a9afbc22d700"
   },
   "outputs": [],
   "source": [
    "import re\n",
    "import pandas as pd\n",
    "from sklearn.svm import SVC\n",
    "from sklearn.linear_model import LogisticRegression\n",
    "from sklearn.ensemble import RandomForestClassifier\n",
    "from sklearn.feature_extraction.text import CountVectorizer\n",
    "from sklearn.model_selection import train_test_split\n",
    "from sklearn.metrics import confusion_matrix, classification_report, accuracy_score, f1_score, recall_score, precision_score\n",
    "from sklearn.utils import shuffle\n",
    "from sklearn.neighbors import KNeighborsClassifier\n",
    "from sklearn.naive_bayes import GaussianNB\n",
    "from sklearn.tree import DecisionTreeClassifier\n",
    "from sklearn.ensemble import GradientBoostingClassifier"
   ]
  },
  {
   "cell_type": "code",
   "execution_count": 2,
   "metadata": {},
   "outputs": [],
   "source": [
    "feature_type = '2'\n",
    "\n",
    "#1 -> just sentence\n",
    "#2 -> all text\n",
    "#3 -> all text + other columns"
   ]
  },
  {
   "cell_type": "code",
   "execution_count": 3,
   "metadata": {},
   "outputs": [],
   "source": [
    "target_type = 3\n",
    "\n",
    "#1 -> all label\n",
    "#2 -> pos + neg\n",
    "#3 -> pos + neg(negative+netural)"
   ]
  },
  {
   "cell_type": "code",
   "execution_count": 4,
   "metadata": {},
   "outputs": [],
   "source": [
    "import warnings\n",
    "warnings.filterwarnings(\"ignore\")"
   ]
  },
  {
   "cell_type": "code",
   "execution_count": 5,
   "metadata": {},
   "outputs": [],
   "source": [
    "train = pd.read_csv('train.csv')\n",
    "test  = pd.read_csv('test.csv')"
   ]
  },
  {
   "cell_type": "code",
   "execution_count": 6,
   "metadata": {},
   "outputs": [
    {
     "data": {
      "text/html": [
       "<div>\n",
       "<style scoped>\n",
       "    .dataframe tbody tr th:only-of-type {\n",
       "        vertical-align: middle;\n",
       "    }\n",
       "\n",
       "    .dataframe tbody tr th {\n",
       "        vertical-align: top;\n",
       "    }\n",
       "\n",
       "    .dataframe thead th {\n",
       "        text-align: right;\n",
       "    }\n",
       "</style>\n",
       "<table border=\"1\" class=\"dataframe\">\n",
       "  <thead>\n",
       "    <tr style=\"text-align: right;\">\n",
       "      <th></th>\n",
       "      <th>text</th>\n",
       "      <th>sentence</th>\n",
       "      <th>snp</th>\n",
       "      <th>phenotype</th>\n",
       "      <th>ASSOCIATION</th>\n",
       "      <th>CONFIDENCE</th>\n",
       "    </tr>\n",
       "  </thead>\n",
       "  <tbody>\n",
       "    <tr>\n",
       "      <th>0</th>\n",
       "      <td>OBJECTIVE: Maternal smoking during pregnancy i...</td>\n",
       "      <td>We examined whether a common genetic variant a...</td>\n",
       "      <td>rs1051730</td>\n",
       "      <td>nicotine metabolism</td>\n",
       "      <td>neutral</td>\n",
       "      <td>zero</td>\n",
       "    </tr>\n",
       "    <tr>\n",
       "      <th>1</th>\n",
       "      <td>OBJECTIVE: Maternal smoking during pregnancy i...</td>\n",
       "      <td>We examined whether a common genetic variant a...</td>\n",
       "      <td>rs1051730</td>\n",
       "      <td>fetal growth characteristics</td>\n",
       "      <td>positive</td>\n",
       "      <td>weak</td>\n",
       "    </tr>\n",
       "    <tr>\n",
       "      <th>2</th>\n",
       "      <td>OBJECTIVE: Maternal smoking during pregnancy i...</td>\n",
       "      <td>RESULTS: Among mothers who did not smoke durin...</td>\n",
       "      <td>rs1051730</td>\n",
       "      <td>fetal growth characteristic</td>\n",
       "      <td>negative</td>\n",
       "      <td>-</td>\n",
       "    </tr>\n",
       "    <tr>\n",
       "      <th>3</th>\n",
       "      <td>OBJECTIVE: Maternal smoking during pregnancy i...</td>\n",
       "      <td>Among mothers who continued smoking during pre...</td>\n",
       "      <td>rs1051730</td>\n",
       "      <td>head circumference</td>\n",
       "      <td>negative</td>\n",
       "      <td>-</td>\n",
       "    </tr>\n",
       "    <tr>\n",
       "      <th>4</th>\n",
       "      <td>OBJECTIVE: Maternal smoking during pregnancy i...</td>\n",
       "      <td>The T-allele of maternal rs1051730 was associa...</td>\n",
       "      <td>rs1051730</td>\n",
       "      <td>second and third trimester fetal femur length</td>\n",
       "      <td>positive</td>\n",
       "      <td>weak</td>\n",
       "    </tr>\n",
       "  </tbody>\n",
       "</table>\n",
       "</div>"
      ],
      "text/plain": [
       "                                                text  \\\n",
       "0  OBJECTIVE: Maternal smoking during pregnancy i...   \n",
       "1  OBJECTIVE: Maternal smoking during pregnancy i...   \n",
       "2  OBJECTIVE: Maternal smoking during pregnancy i...   \n",
       "3  OBJECTIVE: Maternal smoking during pregnancy i...   \n",
       "4  OBJECTIVE: Maternal smoking during pregnancy i...   \n",
       "\n",
       "                                            sentence        snp  \\\n",
       "0  We examined whether a common genetic variant a...  rs1051730   \n",
       "1  We examined whether a common genetic variant a...  rs1051730   \n",
       "2  RESULTS: Among mothers who did not smoke durin...  rs1051730   \n",
       "3  Among mothers who continued smoking during pre...  rs1051730   \n",
       "4  The T-allele of maternal rs1051730 was associa...  rs1051730   \n",
       "\n",
       "                                       phenotype ASSOCIATION CONFIDENCE  \n",
       "0                            nicotine metabolism     neutral       zero  \n",
       "1                   fetal growth characteristics    positive       weak  \n",
       "2                    fetal growth characteristic    negative          -  \n",
       "3                             head circumference    negative          -  \n",
       "4  second and third trimester fetal femur length    positive       weak  "
      ]
     },
     "execution_count": 6,
     "metadata": {},
     "output_type": "execute_result"
    }
   ],
   "source": [
    "train.head()"
   ]
  },
  {
   "cell_type": "code",
   "execution_count": 7,
   "metadata": {},
   "outputs": [],
   "source": [
    "dic = {\"neutral\": \"negative\"}\n",
    "\n",
    "train.replace({\"ASSOCIATION\": dic}, inplace=True)\n",
    "test.replace({\"ASSOCIATION\": dic}, inplace=True)"
   ]
  },
  {
   "cell_type": "code",
   "execution_count": 8,
   "metadata": {},
   "outputs": [],
   "source": [
    "train['label'] = train['ASSOCIATION']\n",
    "test['label']  = test['ASSOCIATION']"
   ]
  },
  {
   "cell_type": "code",
   "execution_count": 9,
   "metadata": {},
   "outputs": [],
   "source": [
    "train.dropna(subset=['sentence', 'text'], inplace=True)\n",
    "test.dropna(subset=['sentence', 'text'], inplace=True)"
   ]
  },
  {
   "cell_type": "code",
   "execution_count": 10,
   "metadata": {},
   "outputs": [],
   "source": [
    "res = pd.read_excel('res.xlsx')"
   ]
  },
  {
   "cell_type": "code",
   "execution_count": 11,
   "metadata": {
    "colab": {},
    "colab_type": "code",
    "id": "NGDxcs86mGhi"
   },
   "outputs": [],
   "source": [
    "def vectorize_bow(df_X, cv):\n",
    "    bow_X = cv.transform(df_X)\n",
    "    bow_df = pd.DataFrame(data=bow_X.toarray(),\n",
    "                          columns=[cv.get_feature_names_out()])\n",
    "    return bow_df\n",
    "\n",
    "def define_and_run_model(model, X_train, X_test, y_train):\n",
    "    clf = model\n",
    "    clf.fit(X_train, y_train)\n",
    "    y_pred = clf.predict(X_test)\n",
    "    return y_pred\n",
    "\n",
    "def show_result(y_pred, y_test):\n",
    "    print(confusion_matrix(y_test, y_pred))\n",
    "    print(classification_report(y_test, y_pred, digits=3))\n",
    "    print(accuracy_score(y_test, y_pred))\n",
    "    \n",
    "def save_res(model_name, feature_type, target_type, y_pred_sr, y_test_sr, idx):\n",
    "    res_pre = precision_score(y_test_sr, y_pred_sr, average='weighted')\n",
    "    res_rec = recall_score(y_test_sr, y_pred_sr, average='weighted')\n",
    "    res_f1 = f1_score(y_test_sr, y_pred_sr, average='weighted')\n",
    "    res.at[idx, 'model-name'] = model_name\n",
    "    res.at[idx, 'feature-type'] = feature_type\n",
    "    res.at[idx, 'target-type'] = target_type\n",
    "    res.at[idx, 'accuracy'] = accuracy_score(y_test_sr, y_pred_sr)\n",
    "    res.at[idx, 'precision'] = res_pre\n",
    "    res.at[idx, 'recall'] = res_rec\n",
    "    res.at[idx, 'f1-score'] = res_f1"
   ]
  },
  {
   "cell_type": "code",
   "execution_count": 12,
   "metadata": {},
   "outputs": [],
   "source": [
    "possible_labels = train.label.unique()\n",
    "\n",
    "label_dict = {}\n",
    "for index, possible_label in enumerate(possible_labels):\n",
    "    label_dict[possible_label] = index\n",
    "\n",
    "train['label'] = train.label.replace(label_dict)\n",
    "test['label']  = test.label.replace(label_dict)"
   ]
  },
  {
   "cell_type": "code",
   "execution_count": 13,
   "metadata": {},
   "outputs": [],
   "source": [
    "df = pd.concat([train, test])"
   ]
  },
  {
   "cell_type": "code",
   "execution_count": 14,
   "metadata": {},
   "outputs": [
    {
     "data": {
      "text/plain": [
       "CountVectorizer(lowercase=False, max_df=0.8)"
      ]
     },
     "execution_count": 14,
     "metadata": {},
     "output_type": "execute_result"
    }
   ],
   "source": [
    "bow_vectorizer = CountVectorizer(lowercase=False, ngram_range=(1, 1), max_df=.80, min_df=1)\n",
    "bow_vectorizer.fit(df['text'])"
   ]
  },
  {
   "cell_type": "code",
   "execution_count": 15,
   "metadata": {},
   "outputs": [],
   "source": [
    "train_bow_df  = vectorize_bow(list(train['text']), bow_vectorizer)\n",
    "test_bow_df   = vectorize_bow(list(test['text']), bow_vectorizer)"
   ]
  },
  {
   "cell_type": "code",
   "execution_count": 16,
   "metadata": {},
   "outputs": [],
   "source": [
    "X_train = train_bow_df\n",
    "y_train = train['label']\n",
    "\n",
    "X_test = test_bow_df\n",
    "y_test = test['label']"
   ]
  },
  {
   "cell_type": "code",
   "execution_count": 17,
   "metadata": {},
   "outputs": [
    {
     "data": {
      "text/plain": [
       "(934, 7335)"
      ]
     },
     "execution_count": 17,
     "metadata": {},
     "output_type": "execute_result"
    }
   ],
   "source": [
    "X_train.shape"
   ]
  },
  {
   "cell_type": "code",
   "execution_count": 18,
   "metadata": {},
   "outputs": [
    {
     "data": {
      "text/plain": [
       "(934,)"
      ]
     },
     "execution_count": 18,
     "metadata": {},
     "output_type": "execute_result"
    }
   ],
   "source": [
    "y_train.shape"
   ]
  },
  {
   "cell_type": "code",
   "execution_count": 19,
   "metadata": {},
   "outputs": [
    {
     "data": {
      "text/plain": [
       "(365, 7335)"
      ]
     },
     "execution_count": 19,
     "metadata": {},
     "output_type": "execute_result"
    }
   ],
   "source": [
    "X_test.shape"
   ]
  },
  {
   "cell_type": "code",
   "execution_count": 20,
   "metadata": {},
   "outputs": [
    {
     "data": {
      "text/plain": [
       "(365,)"
      ]
     },
     "execution_count": 20,
     "metadata": {},
     "output_type": "execute_result"
    }
   ],
   "source": [
    "y_test.shape"
   ]
  },
  {
   "cell_type": "code",
   "execution_count": 21,
   "metadata": {},
   "outputs": [
    {
     "data": {
      "text/plain": [
       "positive    701\n",
       "negative    233\n",
       "Name: ASSOCIATION, dtype: int64"
      ]
     },
     "execution_count": 21,
     "metadata": {},
     "output_type": "execute_result"
    }
   ],
   "source": [
    "train['ASSOCIATION'].value_counts()"
   ]
  },
  {
   "cell_type": "code",
   "execution_count": 22,
   "metadata": {},
   "outputs": [
    {
     "data": {
      "text/plain": [
       "negative    195\n",
       "positive    170\n",
       "Name: ASSOCIATION, dtype: int64"
      ]
     },
     "execution_count": 22,
     "metadata": {},
     "output_type": "execute_result"
    }
   ],
   "source": [
    "test['ASSOCIATION'].value_counts()"
   ]
  },
  {
   "cell_type": "code",
   "execution_count": 23,
   "metadata": {},
   "outputs": [
    {
     "name": "stdout",
     "output_type": "stream",
     "text": [
      "[[  1 194]\n",
      " [  2 168]]\n",
      "              precision    recall  f1-score   support\n",
      "\n",
      "           0      0.333     0.005     0.010       195\n",
      "           1      0.464     0.988     0.632       170\n",
      "\n",
      "    accuracy                          0.463       365\n",
      "   macro avg      0.399     0.497     0.321       365\n",
      "weighted avg      0.394     0.463     0.300       365\n",
      "\n",
      "0.46301369863013697\n",
      "Wall time: 5.28 s\n"
     ]
    }
   ],
   "source": [
    "%%time\n",
    "smodel = SVC(kernel='rbf')\n",
    "smodel.fit(X_train, y_train)\n",
    "pred_values_svm = smodel.predict(X_test)\n",
    "show_result(pred_values_svm, y_test)\n",
    "save_res('svm', feature_type, target_type, pred_values_svm, y_test, len(res))"
   ]
  },
  {
   "cell_type": "code",
   "execution_count": 24,
   "metadata": {},
   "outputs": [
    {
     "name": "stdout",
     "output_type": "stream",
     "text": [
      "[[ 26 169]\n",
      " [ 18 152]]\n",
      "              precision    recall  f1-score   support\n",
      "\n",
      "           0      0.591     0.133     0.218       195\n",
      "           1      0.474     0.894     0.619       170\n",
      "\n",
      "    accuracy                          0.488       365\n",
      "   macro avg      0.532     0.514     0.418       365\n",
      "weighted avg      0.536     0.488     0.405       365\n",
      "\n",
      "0.4876712328767123\n",
      "Wall time: 3.25 s\n"
     ]
    }
   ],
   "source": [
    "%%time\n",
    "lr = LogisticRegression(random_state=0,\n",
    "                        penalty='l2',\n",
    "                        solver='newton-cg',\n",
    "                        C=1.2,\n",
    "                        max_iter=20)\n",
    "lr.fit(X_train, y_train)\n",
    "pred_values_lr = lr.predict(X_test)\n",
    "show_result(pred_values_lr, y_test)\n",
    "save_res('LogisticRegression', feature_type, target_type, pred_values_lr, y_test, len(res))"
   ]
  },
  {
   "cell_type": "code",
   "execution_count": 25,
   "metadata": {},
   "outputs": [
    {
     "name": "stdout",
     "output_type": "stream",
     "text": [
      "[[  5 190]\n",
      " [  2 168]]\n",
      "              precision    recall  f1-score   support\n",
      "\n",
      "           0      0.714     0.026     0.050       195\n",
      "           1      0.469     0.988     0.636       170\n",
      "\n",
      "    accuracy                          0.474       365\n",
      "   macro avg      0.592     0.507     0.343       365\n",
      "weighted avg      0.600     0.474     0.323       365\n",
      "\n",
      "0.473972602739726\n",
      "Wall time: 3.91 s\n"
     ]
    }
   ],
   "source": [
    "%%time\n",
    "model = RandomForestClassifier(n_estimators=100)\n",
    "model.fit(X_train, y_train)\n",
    "pred_values_rf = model.predict(X_test)\n",
    "show_result(pred_values_rf, y_test)\n",
    "save_res('RandomForest', feature_type, target_type, pred_values_rf, y_test, len(res))"
   ]
  },
  {
   "cell_type": "code",
   "execution_count": 26,
   "metadata": {},
   "outputs": [
    {
     "name": "stdout",
     "output_type": "stream",
     "text": [
      "[[ 37 158]\n",
      " [ 25 145]]\n",
      "              precision    recall  f1-score   support\n",
      "\n",
      "           0      0.597     0.190     0.288       195\n",
      "           1      0.479     0.853     0.613       170\n",
      "\n",
      "    accuracy                          0.499       365\n",
      "   macro avg      0.538     0.521     0.451       365\n",
      "weighted avg      0.542     0.499     0.439       365\n",
      "\n",
      "0.4986301369863014\n",
      "Wall time: 416 ms\n"
     ]
    }
   ],
   "source": [
    "%%time\n",
    "model = KNeighborsClassifier(n_neighbors=2)\n",
    "model.fit(X_train, y_train)\n",
    "pred_values_knn = model.predict(X_test)\n",
    "show_result(pred_values_knn, y_test)\n",
    "save_res('knn', feature_type, target_type, pred_values_knn, y_test, len(res))"
   ]
  },
  {
   "cell_type": "code",
   "execution_count": 27,
   "metadata": {},
   "outputs": [
    {
     "name": "stdout",
     "output_type": "stream",
     "text": [
      "[[ 21 174]\n",
      " [  7 163]]\n",
      "              precision    recall  f1-score   support\n",
      "\n",
      "           0      0.750     0.108     0.188       195\n",
      "           1      0.484     0.959     0.643       170\n",
      "\n",
      "    accuracy                          0.504       365\n",
      "   macro avg      0.617     0.533     0.416       365\n",
      "weighted avg      0.626     0.504     0.400       365\n",
      "\n",
      "0.5041095890410959\n",
      "Wall time: 381 ms\n"
     ]
    }
   ],
   "source": [
    "%%time\n",
    "model = GaussianNB()\n",
    "model.fit(X_train, y_train)\n",
    "pred_values_nb = model.predict(X_test)\n",
    "show_result(pred_values_nb, y_test)\n",
    "save_res('GaussianNB', feature_type, target_type, pred_values_nb, y_test, len(res))"
   ]
  },
  {
   "cell_type": "code",
   "execution_count": 28,
   "metadata": {},
   "outputs": [
    {
     "name": "stdout",
     "output_type": "stream",
     "text": [
      "[[ 43 152]\n",
      " [ 50 120]]\n",
      "              precision    recall  f1-score   support\n",
      "\n",
      "           0      0.462     0.221     0.299       195\n",
      "           1      0.441     0.706     0.543       170\n",
      "\n",
      "    accuracy                          0.447       365\n",
      "   macro avg      0.452     0.463     0.421       365\n",
      "weighted avg      0.452     0.447     0.412       365\n",
      "\n",
      "0.4465753424657534\n",
      "Wall time: 830 ms\n"
     ]
    }
   ],
   "source": [
    "%%time\n",
    "model = DecisionTreeClassifier(random_state=0)\n",
    "model.fit(X_train, y_train)\n",
    "pred_values_dt = model.predict(X_test)\n",
    "show_result(pred_values_dt, y_test)\n",
    "save_res('DecisionTree', feature_type, target_type, pred_values_dt, y_test, len(res))"
   ]
  },
  {
   "cell_type": "code",
   "execution_count": 29,
   "metadata": {},
   "outputs": [
    {
     "name": "stdout",
     "output_type": "stream",
     "text": [
      "[[ 25 170]\n",
      " [ 15 155]]\n",
      "              precision    recall  f1-score   support\n",
      "\n",
      "           0      0.625     0.128     0.213       195\n",
      "           1      0.477     0.912     0.626       170\n",
      "\n",
      "    accuracy                          0.493       365\n",
      "   macro avg      0.551     0.520     0.420       365\n",
      "weighted avg      0.556     0.493     0.405       365\n",
      "\n",
      "0.4931506849315068\n",
      "Wall time: 14.6 s\n"
     ]
    }
   ],
   "source": [
    "%%time\n",
    "model = GradientBoostingClassifier(n_estimators=100, learning_rate=1.0, max_depth=1, random_state=0)\n",
    "model.fit(X_train, y_train)\n",
    "pred_values_gb = model.predict(X_test)\n",
    "show_result(pred_values_gb, y_test)\n",
    "save_res('GradientBoosting', feature_type, target_type, pred_values_gb, y_test, len(res))"
   ]
  },
  {
   "cell_type": "code",
   "execution_count": 30,
   "metadata": {},
   "outputs": [],
   "source": [
    "import os\n",
    "os.remove(\"res.xlsx\") \n",
    "\n",
    "res.to_excel('res.xlsx', index=False)"
   ]
  },
  {
   "cell_type": "code",
   "execution_count": null,
   "metadata": {},
   "outputs": [],
   "source": []
  },
  {
   "cell_type": "code",
   "execution_count": null,
   "metadata": {},
   "outputs": [],
   "source": []
  }
 ],
 "metadata": {
  "colab": {
   "name": "deep.ipynb",
   "provenance": [],
   "toc_visible": true
  },
  "kernelspec": {
   "display_name": "Python 3 (ipykernel)",
   "language": "python",
   "name": "python3"
  },
  "language_info": {
   "codemirror_mode": {
    "name": "ipython",
    "version": 3
   },
   "file_extension": ".py",
   "mimetype": "text/x-python",
   "name": "python",
   "nbconvert_exporter": "python",
   "pygments_lexer": "ipython3",
   "version": "3.9.6"
  }
 },
 "nbformat": 4,
 "nbformat_minor": 1
}
