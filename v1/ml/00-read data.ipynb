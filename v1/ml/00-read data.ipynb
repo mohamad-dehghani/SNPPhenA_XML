{
 "cells": [
  {
   "cell_type": "code",
   "execution_count": 1,
   "id": "1be7dbcb",
   "metadata": {},
   "outputs": [],
   "source": [
    "# !pip install beautifulsoup4 lxml"
   ]
  },
  {
   "cell_type": "code",
   "execution_count": 2,
   "id": "233c8b93",
   "metadata": {},
   "outputs": [],
   "source": [
    "import pandas as pd\n",
    "import glob\n",
    "from bs4 import BeautifulSoup\n",
    "from nltk.tokenize import sent_tokenize, word_tokenize"
   ]
  },
  {
   "cell_type": "code",
   "execution_count": 3,
   "id": "29383f29",
   "metadata": {},
   "outputs": [],
   "source": [
    "train_files = glob.glob(\"XML/train/*.xml\")"
   ]
  },
  {
   "cell_type": "code",
   "execution_count": 4,
   "id": "33a6aec3",
   "metadata": {},
   "outputs": [],
   "source": [
    "test_files = glob.glob(\"XML/test/*.xml\")"
   ]
  },
  {
   "cell_type": "code",
   "execution_count": 5,
   "id": "ea6ea97b",
   "metadata": {},
   "outputs": [],
   "source": [
    "train_df = pd.DataFrame(columns=['text', 'sentence', 'snp', 'phenotype', 'ASSOCIATION', 'CONFIDENCE'])\n",
    "test_df  = pd.DataFrame(columns=['text', 'sentence', 'snp', 'phenotype', 'ASSOCIATION', 'CONFIDENCE'])"
   ]
  },
  {
   "cell_type": "code",
   "execution_count": 6,
   "id": "904b3d71",
   "metadata": {},
   "outputs": [],
   "source": [
    "for test_file in test_files[:]:\n",
    "    \n",
    "    with open(test_file, 'r', encoding='utf-8') as f:\n",
    "        xml_data = f.read()\n",
    "\n",
    "    pars_data = BeautifulSoup(xml_data, \"xml\")\n",
    "    items = pars_data.find_all('sentence')\n",
    "    \n",
    "    text = pars_data.find_all('abstract')[0]['TEXT']\n",
    "    sents = sent_tokenize(text)\n",
    "    \n",
    "    for item in items:\n",
    "        snps = item.find_all('snp')\n",
    "        phenotypes = item.find_all('phenotype')\n",
    "        pairs = item.find_all('pair')\n",
    "        \n",
    "        snps_dic = {}\n",
    "        for st in snps:\n",
    "            snps_dic[st['ID']] = st['TEXT']\n",
    "            \n",
    "        phenotypes_dic = {}\n",
    "        for pt in phenotypes:\n",
    "            phenotypes_dic[pt['ID']] = pt['text']\n",
    "        \n",
    "        for pair in pairs:\n",
    "            idx = len(test_df)\n",
    "            test_df.at[idx, 'snp'] = snps_dic[pair['SNPID']]\n",
    "            test_df.at[idx, 'phenotype'] = phenotypes_dic[pair['PHENOTYPEID']]\n",
    "            test_df.at[idx, 'ASSOCIATION'] = pair['ASSOCIATION']\n",
    "            test_df.at[idx, 'CONFIDENCE'] = pair['CONFIDENCE']\n",
    "            test_df.at[idx, 'text'] = text\n",
    "\n",
    "            for se in sents:\n",
    "                if((phenotypes_dic[pair['PHENOTYPEID']] in se)&(snps_dic[pair['SNPID']] in se)):\n",
    "                    test_df.at[idx, 'sentence'] = se"
   ]
  },
  {
   "cell_type": "code",
   "execution_count": 7,
   "id": "4915eb84",
   "metadata": {},
   "outputs": [
    {
     "data": {
      "text/html": [
       "<div>\n",
       "<style scoped>\n",
       "    .dataframe tbody tr th:only-of-type {\n",
       "        vertical-align: middle;\n",
       "    }\n",
       "\n",
       "    .dataframe tbody tr th {\n",
       "        vertical-align: top;\n",
       "    }\n",
       "\n",
       "    .dataframe thead th {\n",
       "        text-align: right;\n",
       "    }\n",
       "</style>\n",
       "<table border=\"1\" class=\"dataframe\">\n",
       "  <thead>\n",
       "    <tr style=\"text-align: right;\">\n",
       "      <th></th>\n",
       "      <th>text</th>\n",
       "      <th>sentence</th>\n",
       "      <th>snp</th>\n",
       "      <th>phenotype</th>\n",
       "      <th>ASSOCIATION</th>\n",
       "      <th>CONFIDENCE</th>\n",
       "    </tr>\n",
       "  </thead>\n",
       "  <tbody>\n",
       "    <tr>\n",
       "      <th>0</th>\n",
       "      <td>OBJECTIVE: To examine the effects of genetic p...</td>\n",
       "      <td>Random-effects meta-analyses failed to detect ...</td>\n",
       "      <td>rs180040</td>\n",
       "      <td>POAG</td>\n",
       "      <td>negative</td>\n",
       "      <td>-</td>\n",
       "    </tr>\n",
       "    <tr>\n",
       "      <th>1</th>\n",
       "      <td>OBJECTIVE: To examine the effects of genetic p...</td>\n",
       "      <td>Random-effects meta-analyses failed to detect ...</td>\n",
       "      <td>rs1056836</td>\n",
       "      <td>POAG</td>\n",
       "      <td>negative</td>\n",
       "      <td>-</td>\n",
       "    </tr>\n",
       "    <tr>\n",
       "      <th>2</th>\n",
       "      <td>OBJECTIVE: To examine the effects of genetic p...</td>\n",
       "      <td>Random-effects meta-analyses failed to detect ...</td>\n",
       "      <td>rs10012</td>\n",
       "      <td>POAG</td>\n",
       "      <td>negative</td>\n",
       "      <td>-</td>\n",
       "    </tr>\n",
       "    <tr>\n",
       "      <th>3</th>\n",
       "      <td>OBJECTIVE: To examine the effects of genetic p...</td>\n",
       "      <td>Random-effects meta-analyses failed to detect ...</td>\n",
       "      <td>rs1056827</td>\n",
       "      <td>POAG</td>\n",
       "      <td>negative</td>\n",
       "      <td>-</td>\n",
       "    </tr>\n",
       "    <tr>\n",
       "      <th>4</th>\n",
       "      <td>OBJECTIVE: To examine the effects of genetic p...</td>\n",
       "      <td>Random-effects meta-analyses failed to detect ...</td>\n",
       "      <td>rs1056837</td>\n",
       "      <td>POAG</td>\n",
       "      <td>negative</td>\n",
       "      <td>-</td>\n",
       "    </tr>\n",
       "    <tr>\n",
       "      <th>...</th>\n",
       "      <td>...</td>\n",
       "      <td>...</td>\n",
       "      <td>...</td>\n",
       "      <td>...</td>\n",
       "      <td>...</td>\n",
       "      <td>...</td>\n",
       "    </tr>\n",
       "    <tr>\n",
       "      <th>360</th>\n",
       "      <td>Metabolic syndrome (MetS) is a common multifac...</td>\n",
       "      <td>Analysis of 4 SNPs revealed a significant diff...</td>\n",
       "      <td>rs10757274</td>\n",
       "      <td>MetS</td>\n",
       "      <td>negative</td>\n",
       "      <td>-</td>\n",
       "    </tr>\n",
       "    <tr>\n",
       "      <th>361</th>\n",
       "      <td>Genetic variation in the androgen receptor (AR...</td>\n",
       "      <td>Minor alleles in three correlated ht SNPs (rs6...</td>\n",
       "      <td>rs6152</td>\n",
       "      <td>endometrial cancer</td>\n",
       "      <td>positive</td>\n",
       "      <td>weak</td>\n",
       "    </tr>\n",
       "    <tr>\n",
       "      <th>362</th>\n",
       "      <td>Genetic variation in the androgen receptor (AR...</td>\n",
       "      <td>Minor alleles in three correlated ht SNPs (rs6...</td>\n",
       "      <td>rs1204038</td>\n",
       "      <td>endometrial cancer</td>\n",
       "      <td>positive</td>\n",
       "      <td>weak</td>\n",
       "    </tr>\n",
       "    <tr>\n",
       "      <th>363</th>\n",
       "      <td>Genetic variation in the androgen receptor (AR...</td>\n",
       "      <td>Minor alleles in three correlated ht SNPs (rs6...</td>\n",
       "      <td>rs1337082</td>\n",
       "      <td>endometrial cancer</td>\n",
       "      <td>positive</td>\n",
       "      <td>weak</td>\n",
       "    </tr>\n",
       "    <tr>\n",
       "      <th>364</th>\n",
       "      <td>The μ-opioid receptor (MOR) binds exogenous an...</td>\n",
       "      <td>Results revealed an association between rs6263...</td>\n",
       "      <td>rs62638690</td>\n",
       "      <td>addiction</td>\n",
       "      <td>positive</td>\n",
       "      <td>weak</td>\n",
       "    </tr>\n",
       "  </tbody>\n",
       "</table>\n",
       "<p>365 rows × 6 columns</p>\n",
       "</div>"
      ],
      "text/plain": [
       "                                                  text  \\\n",
       "0    OBJECTIVE: To examine the effects of genetic p...   \n",
       "1    OBJECTIVE: To examine the effects of genetic p...   \n",
       "2    OBJECTIVE: To examine the effects of genetic p...   \n",
       "3    OBJECTIVE: To examine the effects of genetic p...   \n",
       "4    OBJECTIVE: To examine the effects of genetic p...   \n",
       "..                                                 ...   \n",
       "360  Metabolic syndrome (MetS) is a common multifac...   \n",
       "361  Genetic variation in the androgen receptor (AR...   \n",
       "362  Genetic variation in the androgen receptor (AR...   \n",
       "363  Genetic variation in the androgen receptor (AR...   \n",
       "364  The μ-opioid receptor (MOR) binds exogenous an...   \n",
       "\n",
       "                                              sentence         snp  \\\n",
       "0    Random-effects meta-analyses failed to detect ...    rs180040   \n",
       "1    Random-effects meta-analyses failed to detect ...   rs1056836   \n",
       "2    Random-effects meta-analyses failed to detect ...     rs10012   \n",
       "3    Random-effects meta-analyses failed to detect ...   rs1056827   \n",
       "4    Random-effects meta-analyses failed to detect ...   rs1056837   \n",
       "..                                                 ...         ...   \n",
       "360  Analysis of 4 SNPs revealed a significant diff...  rs10757274   \n",
       "361  Minor alleles in three correlated ht SNPs (rs6...      rs6152   \n",
       "362  Minor alleles in three correlated ht SNPs (rs6...   rs1204038   \n",
       "363  Minor alleles in three correlated ht SNPs (rs6...   rs1337082   \n",
       "364  Results revealed an association between rs6263...  rs62638690   \n",
       "\n",
       "              phenotype ASSOCIATION CONFIDENCE  \n",
       "0                  POAG    negative          -  \n",
       "1                  POAG    negative          -  \n",
       "2                  POAG    negative          -  \n",
       "3                  POAG    negative          -  \n",
       "4                  POAG    negative          -  \n",
       "..                  ...         ...        ...  \n",
       "360                MetS    negative          -  \n",
       "361  endometrial cancer    positive       weak  \n",
       "362  endometrial cancer    positive       weak  \n",
       "363  endometrial cancer    positive       weak  \n",
       "364           addiction    positive       weak  \n",
       "\n",
       "[365 rows x 6 columns]"
      ]
     },
     "execution_count": 7,
     "metadata": {},
     "output_type": "execute_result"
    }
   ],
   "source": [
    "test_df"
   ]
  },
  {
   "cell_type": "code",
   "execution_count": 8,
   "id": "121824a5",
   "metadata": {},
   "outputs": [],
   "source": [
    "for train_file in train_files[:]:\n",
    "    \n",
    "    with open(train_file, 'r', encoding='utf-8') as f:\n",
    "        xml_data = f.read()\n",
    "\n",
    "    pars_data = BeautifulSoup(xml_data, \"xml\")\n",
    "    items = pars_data.find_all('sentence')\n",
    "    \n",
    "    text = pars_data.find_all('abstract')[0]['TEXT']\n",
    "    sents = sent_tokenize(text)\n",
    "    \n",
    "    for item in items:\n",
    "        snps = item.find_all('snp')\n",
    "        phenotypes = item.find_all('phenotype')\n",
    "        pairs = item.find_all('pair')\n",
    "        \n",
    "        snps_dic = {}\n",
    "        for st in snps:\n",
    "            snps_dic[st['ID']] = st['TEXT']\n",
    "            \n",
    "        phenotypes_dic = {}\n",
    "        for pt in phenotypes:\n",
    "            phenotypes_dic[pt['ID']] = pt['text']\n",
    "        \n",
    "        for pair in pairs:\n",
    "            idx = len(train_df)\n",
    "            train_df.at[idx, 'snp'] = snps_dic[pair['SNPID']]\n",
    "            train_df.at[idx, 'phenotype'] = phenotypes_dic[pair['PHENOTYPEID']]\n",
    "            train_df.at[idx, 'ASSOCIATION'] = pair['ASSOCIATION']\n",
    "            train_df.at[idx, 'CONFIDENCE'] = pair['CONFIDENCE']\n",
    "            train_df.at[idx, 'text'] = text\n",
    "\n",
    "            for se in sents:\n",
    "                if((phenotypes_dic[pair['PHENOTYPEID']] in se)&(snps_dic[pair['SNPID']] in se)):\n",
    "                    train_df.at[idx, 'sentence'] = se"
   ]
  },
  {
   "cell_type": "code",
   "execution_count": 9,
   "id": "4dc916b2",
   "metadata": {},
   "outputs": [
    {
     "data": {
      "text/html": [
       "<div>\n",
       "<style scoped>\n",
       "    .dataframe tbody tr th:only-of-type {\n",
       "        vertical-align: middle;\n",
       "    }\n",
       "\n",
       "    .dataframe tbody tr th {\n",
       "        vertical-align: top;\n",
       "    }\n",
       "\n",
       "    .dataframe thead th {\n",
       "        text-align: right;\n",
       "    }\n",
       "</style>\n",
       "<table border=\"1\" class=\"dataframe\">\n",
       "  <thead>\n",
       "    <tr style=\"text-align: right;\">\n",
       "      <th></th>\n",
       "      <th>text</th>\n",
       "      <th>sentence</th>\n",
       "      <th>snp</th>\n",
       "      <th>phenotype</th>\n",
       "      <th>ASSOCIATION</th>\n",
       "      <th>CONFIDENCE</th>\n",
       "    </tr>\n",
       "  </thead>\n",
       "  <tbody>\n",
       "    <tr>\n",
       "      <th>930</th>\n",
       "      <td>OBJECTIVE: GH deficiency (GHD) in adults is as...</td>\n",
       "      <td>RESULTS: At baseline, the minor alleles of cho...</td>\n",
       "      <td>rs35136575</td>\n",
       "      <td>higher serum TC</td>\n",
       "      <td>neutral</td>\n",
       "      <td>zero</td>\n",
       "    </tr>\n",
       "    <tr>\n",
       "      <th>931</th>\n",
       "      <td>OBJECTIVE: GH deficiency (GHD) in adults is as...</td>\n",
       "      <td>RESULTS: At baseline, the minor alleles of cho...</td>\n",
       "      <td>rs35136575</td>\n",
       "      <td>lower TC concentrations</td>\n",
       "      <td>neutral</td>\n",
       "      <td>zero</td>\n",
       "    </tr>\n",
       "    <tr>\n",
       "      <th>932</th>\n",
       "      <td>OBJECTIVE: GH deficiency (GHD) in adults is as...</td>\n",
       "      <td>RESULTS: At baseline, the minor alleles of cho...</td>\n",
       "      <td>rs35136575</td>\n",
       "      <td>higher serum HDL-C</td>\n",
       "      <td>neutral</td>\n",
       "      <td>zero</td>\n",
       "    </tr>\n",
       "    <tr>\n",
       "      <th>933</th>\n",
       "      <td>OBJECTIVE: GH deficiency (GHD) in adults is as...</td>\n",
       "      <td>RESULTS: At baseline, the minor alleles of cho...</td>\n",
       "      <td>rs35136575</td>\n",
       "      <td>lower LDL-C</td>\n",
       "      <td>neutral</td>\n",
       "      <td>zero</td>\n",
       "    </tr>\n",
       "    <tr>\n",
       "      <th>934</th>\n",
       "      <td>OBJECTIVE: GH deficiency (GHD) in adults is as...</td>\n",
       "      <td>RESULTS: At baseline, the minor alleles of cho...</td>\n",
       "      <td>rs35136575</td>\n",
       "      <td>higher LDL-C</td>\n",
       "      <td>neutral</td>\n",
       "      <td>zero</td>\n",
       "    </tr>\n",
       "  </tbody>\n",
       "</table>\n",
       "</div>"
      ],
      "text/plain": [
       "                                                  text  \\\n",
       "930  OBJECTIVE: GH deficiency (GHD) in adults is as...   \n",
       "931  OBJECTIVE: GH deficiency (GHD) in adults is as...   \n",
       "932  OBJECTIVE: GH deficiency (GHD) in adults is as...   \n",
       "933  OBJECTIVE: GH deficiency (GHD) in adults is as...   \n",
       "934  OBJECTIVE: GH deficiency (GHD) in adults is as...   \n",
       "\n",
       "                                              sentence         snp  \\\n",
       "930  RESULTS: At baseline, the minor alleles of cho...  rs35136575   \n",
       "931  RESULTS: At baseline, the minor alleles of cho...  rs35136575   \n",
       "932  RESULTS: At baseline, the minor alleles of cho...  rs35136575   \n",
       "933  RESULTS: At baseline, the minor alleles of cho...  rs35136575   \n",
       "934  RESULTS: At baseline, the minor alleles of cho...  rs35136575   \n",
       "\n",
       "                   phenotype ASSOCIATION CONFIDENCE  \n",
       "930          higher serum TC     neutral       zero  \n",
       "931  lower TC concentrations     neutral       zero  \n",
       "932       higher serum HDL-C     neutral       zero  \n",
       "933              lower LDL-C     neutral       zero  \n",
       "934             higher LDL-C     neutral       zero  "
      ]
     },
     "execution_count": 9,
     "metadata": {},
     "output_type": "execute_result"
    }
   ],
   "source": [
    "train_df.tail()"
   ]
  },
  {
   "cell_type": "code",
   "execution_count": 10,
   "id": "21b13e49",
   "metadata": {},
   "outputs": [
    {
     "data": {
      "text/plain": [
       "weak        375\n",
       "strong      219\n",
       "zero        142\n",
       "moderate    108\n",
       "-            91\n",
       "Name: CONFIDENCE, dtype: int64"
      ]
     },
     "execution_count": 10,
     "metadata": {},
     "output_type": "execute_result"
    }
   ],
   "source": [
    "train_df['CONFIDENCE'].value_counts()"
   ]
  },
  {
   "cell_type": "code",
   "execution_count": 11,
   "id": "38ada8ca",
   "metadata": {},
   "outputs": [
    {
     "data": {
      "text/plain": [
       "positive    702\n",
       "neutral     142\n",
       "negative     91\n",
       "Name: ASSOCIATION, dtype: int64"
      ]
     },
     "execution_count": 11,
     "metadata": {},
     "output_type": "execute_result"
    }
   ],
   "source": [
    "train_df['ASSOCIATION'].value_counts()"
   ]
  },
  {
   "cell_type": "code",
   "execution_count": 12,
   "id": "f20a64bb",
   "metadata": {},
   "outputs": [
    {
     "data": {
      "text/plain": [
       "zero        166\n",
       "weak        140\n",
       "-            29\n",
       "moderate     16\n",
       "strong       14\n",
       "Name: CONFIDENCE, dtype: int64"
      ]
     },
     "execution_count": 12,
     "metadata": {},
     "output_type": "execute_result"
    }
   ],
   "source": [
    "test_df['CONFIDENCE'].value_counts()"
   ]
  },
  {
   "cell_type": "code",
   "execution_count": 13,
   "id": "2e50df82",
   "metadata": {},
   "outputs": [
    {
     "data": {
      "text/plain": [
       "positive    170\n",
       "neutral     166\n",
       "negative     29\n",
       "Name: ASSOCIATION, dtype: int64"
      ]
     },
     "execution_count": 13,
     "metadata": {},
     "output_type": "execute_result"
    }
   ],
   "source": [
    "test_df['ASSOCIATION'].value_counts()"
   ]
  },
  {
   "cell_type": "code",
   "execution_count": 14,
   "id": "ea8fd0bd",
   "metadata": {},
   "outputs": [],
   "source": [
    "test_df.to_csv('test.csv', index=False)\n",
    "train_df.to_csv('train.csv', index=False)"
   ]
  },
  {
   "cell_type": "code",
   "execution_count": null,
   "id": "daaa9a0d",
   "metadata": {},
   "outputs": [],
   "source": []
  },
  {
   "cell_type": "code",
   "execution_count": null,
   "id": "56dcc476",
   "metadata": {},
   "outputs": [],
   "source": []
  },
  {
   "cell_type": "code",
   "execution_count": null,
   "id": "7e0d6fb8",
   "metadata": {},
   "outputs": [],
   "source": []
  }
 ],
 "metadata": {
  "kernelspec": {
   "display_name": "Python 3 (ipykernel)",
   "language": "python",
   "name": "python3"
  },
  "language_info": {
   "codemirror_mode": {
    "name": "ipython",
    "version": 3
   },
   "file_extension": ".py",
   "mimetype": "text/x-python",
   "name": "python",
   "nbconvert_exporter": "python",
   "pygments_lexer": "ipython3",
   "version": "3.9.6"
  }
 },
 "nbformat": 4,
 "nbformat_minor": 5
}
