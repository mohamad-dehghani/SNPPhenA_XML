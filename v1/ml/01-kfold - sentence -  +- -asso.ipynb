{
 "cells": [
  {
   "cell_type": "code",
   "execution_count": 1,
   "metadata": {
    "colab": {
     "base_uri": "https://localhost:8080/",
     "height": 74
    },
    "colab_type": "code",
    "id": "QKrP__u3PTar",
    "outputId": "7a5a6510-5807-404c-e1e6-a9afbc22d700"
   },
   "outputs": [],
   "source": [
    "import re\n",
    "import pandas as pd\n",
    "from sklearn.svm import SVC\n",
    "from sklearn.linear_model import LogisticRegression\n",
    "from sklearn.ensemble import RandomForestClassifier\n",
    "from sklearn.feature_extraction.text import CountVectorizer\n",
    "from sklearn.model_selection import train_test_split\n",
    "from sklearn.metrics import confusion_matrix, classification_report, accuracy_score, f1_score, recall_score, precision_score\n",
    "from sklearn.utils import shuffle\n",
    "from sklearn.neighbors import KNeighborsClassifier\n",
    "from sklearn.naive_bayes import GaussianNB\n",
    "from sklearn.tree import DecisionTreeClassifier\n",
    "from sklearn.ensemble import GradientBoostingClassifier\n",
    "from sklearn.model_selection import KFold\n",
    "from numpy import mean, std"
   ]
  },
  {
   "cell_type": "code",
   "execution_count": 2,
   "metadata": {},
   "outputs": [],
   "source": [
    "import warnings\n",
    "warnings.filterwarnings(\"ignore\")"
   ]
  },
  {
   "cell_type": "code",
   "execution_count": 3,
   "metadata": {},
   "outputs": [],
   "source": [
    "feature_type = '1'\n",
    "\n",
    "#1 -> just sentence\n",
    "#2 -> all text"
   ]
  },
  {
   "cell_type": "code",
   "execution_count": 4,
   "metadata": {},
   "outputs": [],
   "source": [
    "target_type = 1\n",
    "#1 -> pos"
   ]
  },
  {
   "cell_type": "code",
   "execution_count": 5,
   "metadata": {},
   "outputs": [],
   "source": [
    "train = pd.read_csv('train.csv')\n",
    "test  = pd.read_csv('test.csv')"
   ]
  },
  {
   "cell_type": "code",
   "execution_count": 6,
   "metadata": {},
   "outputs": [
    {
     "data": {
      "text/html": [
       "<div>\n",
       "<style scoped>\n",
       "    .dataframe tbody tr th:only-of-type {\n",
       "        vertical-align: middle;\n",
       "    }\n",
       "\n",
       "    .dataframe tbody tr th {\n",
       "        vertical-align: top;\n",
       "    }\n",
       "\n",
       "    .dataframe thead th {\n",
       "        text-align: right;\n",
       "    }\n",
       "</style>\n",
       "<table border=\"1\" class=\"dataframe\">\n",
       "  <thead>\n",
       "    <tr style=\"text-align: right;\">\n",
       "      <th></th>\n",
       "      <th>text</th>\n",
       "      <th>sentence</th>\n",
       "      <th>snp</th>\n",
       "      <th>phenotype</th>\n",
       "      <th>ASSOCIATION</th>\n",
       "      <th>CONFIDENCE</th>\n",
       "    </tr>\n",
       "  </thead>\n",
       "  <tbody>\n",
       "    <tr>\n",
       "      <th>0</th>\n",
       "      <td>OBJECTIVE: Maternal smoking during pregnancy i...</td>\n",
       "      <td>We examined whether a common genetic variant a...</td>\n",
       "      <td>rs1051730</td>\n",
       "      <td>nicotine metabolism</td>\n",
       "      <td>neutral</td>\n",
       "      <td>zero</td>\n",
       "    </tr>\n",
       "    <tr>\n",
       "      <th>1</th>\n",
       "      <td>OBJECTIVE: Maternal smoking during pregnancy i...</td>\n",
       "      <td>We examined whether a common genetic variant a...</td>\n",
       "      <td>rs1051730</td>\n",
       "      <td>fetal growth characteristics</td>\n",
       "      <td>positive</td>\n",
       "      <td>weak</td>\n",
       "    </tr>\n",
       "    <tr>\n",
       "      <th>2</th>\n",
       "      <td>OBJECTIVE: Maternal smoking during pregnancy i...</td>\n",
       "      <td>RESULTS: Among mothers who did not smoke durin...</td>\n",
       "      <td>rs1051730</td>\n",
       "      <td>fetal growth characteristic</td>\n",
       "      <td>negative</td>\n",
       "      <td>-</td>\n",
       "    </tr>\n",
       "    <tr>\n",
       "      <th>3</th>\n",
       "      <td>OBJECTIVE: Maternal smoking during pregnancy i...</td>\n",
       "      <td>Among mothers who continued smoking during pre...</td>\n",
       "      <td>rs1051730</td>\n",
       "      <td>head circumference</td>\n",
       "      <td>negative</td>\n",
       "      <td>-</td>\n",
       "    </tr>\n",
       "    <tr>\n",
       "      <th>4</th>\n",
       "      <td>OBJECTIVE: Maternal smoking during pregnancy i...</td>\n",
       "      <td>The T-allele of maternal rs1051730 was associa...</td>\n",
       "      <td>rs1051730</td>\n",
       "      <td>second and third trimester fetal femur length</td>\n",
       "      <td>positive</td>\n",
       "      <td>weak</td>\n",
       "    </tr>\n",
       "  </tbody>\n",
       "</table>\n",
       "</div>"
      ],
      "text/plain": [
       "                                                text  \\\n",
       "0  OBJECTIVE: Maternal smoking during pregnancy i...   \n",
       "1  OBJECTIVE: Maternal smoking during pregnancy i...   \n",
       "2  OBJECTIVE: Maternal smoking during pregnancy i...   \n",
       "3  OBJECTIVE: Maternal smoking during pregnancy i...   \n",
       "4  OBJECTIVE: Maternal smoking during pregnancy i...   \n",
       "\n",
       "                                            sentence        snp  \\\n",
       "0  We examined whether a common genetic variant a...  rs1051730   \n",
       "1  We examined whether a common genetic variant a...  rs1051730   \n",
       "2  RESULTS: Among mothers who did not smoke durin...  rs1051730   \n",
       "3  Among mothers who continued smoking during pre...  rs1051730   \n",
       "4  The T-allele of maternal rs1051730 was associa...  rs1051730   \n",
       "\n",
       "                                       phenotype ASSOCIATION CONFIDENCE  \n",
       "0                            nicotine metabolism     neutral       zero  \n",
       "1                   fetal growth characteristics    positive       weak  \n",
       "2                    fetal growth characteristic    negative          -  \n",
       "3                             head circumference    negative          -  \n",
       "4  second and third trimester fetal femur length    positive       weak  "
      ]
     },
     "execution_count": 6,
     "metadata": {},
     "output_type": "execute_result"
    }
   ],
   "source": [
    "train.head()"
   ]
  },
  {
   "cell_type": "code",
   "execution_count": 7,
   "metadata": {},
   "outputs": [],
   "source": [
    "# train = train[~train.ASSOCIATION.isin(['neutral'])]\n",
    "# test  = test[~test.ASSOCIATION.isin(['neutral'])]\n",
    "\n",
    "dic = {\"neutral\": \"negative\"}\n",
    "\n",
    "train.replace({\"ASSOCIATION\": dic}, inplace=True)\n",
    "test.replace({\"ASSOCIATION\": dic}, inplace=True)"
   ]
  },
  {
   "cell_type": "code",
   "execution_count": 8,
   "metadata": {},
   "outputs": [],
   "source": [
    "train['label'] = train['ASSOCIATION']\n",
    "test['label']  = test['ASSOCIATION']"
   ]
  },
  {
   "cell_type": "code",
   "execution_count": 9,
   "metadata": {},
   "outputs": [],
   "source": [
    "train.dropna(subset=['sentence'], inplace=True)\n",
    "test.dropna(subset=['sentence'], inplace=True)"
   ]
  },
  {
   "cell_type": "code",
   "execution_count": 10,
   "metadata": {},
   "outputs": [],
   "source": [
    "res = pd.read_excel('res.xlsx')"
   ]
  },
  {
   "cell_type": "code",
   "execution_count": 11,
   "metadata": {
    "colab": {},
    "colab_type": "code",
    "id": "NGDxcs86mGhi"
   },
   "outputs": [],
   "source": [
    "def vectorize_bow(df_X, cv):\n",
    "    bow_X = cv.transform(df_X)\n",
    "    bow_df = pd.DataFrame(data=bow_X.toarray(),\n",
    "                          columns=[cv.get_feature_names_out()])\n",
    "    return bow_df\n",
    "\n",
    "def define_and_run_model(model, X_train, X_test, y_train):\n",
    "    clf = model\n",
    "    clf.fit(X_train, y_train)\n",
    "    y_pred = clf.predict(X_test)\n",
    "    return y_pred\n",
    "\n",
    "def show_result(y_pred, y_test):\n",
    "    print(confusion_matrix(y_test, y_pred))\n",
    "    print(classification_report(y_test, y_pred, digits=3))\n",
    "    print(accuracy_score(y_test, y_pred))\n",
    "    \n",
    "def save_res(model_name, feature_type, target_type, y_pred_sr, y_test_sr, idx):\n",
    "    res_pre = precision_score(y_test_sr, y_pred_sr, average='weighted')\n",
    "    res_rec = recall_score(y_test_sr, y_pred_sr, average='weighted')\n",
    "    res_f1 = f1_score(y_test_sr, y_pred_sr, average='weighted')\n",
    "    res.at[idx, 'model-name'] = model_name\n",
    "    res.at[idx, 'feature-type'] = feature_type\n",
    "    res.at[idx, 'target-type'] = target_type\n",
    "    res.at[idx, 'accuracy'] = accuracy_score(y_test_sr, y_pred_sr)\n",
    "    res.at[idx, 'precision'] = res_pre\n",
    "    res.at[idx, 'recall'] = res_rec\n",
    "    res.at[idx, 'f1-score'] = res_f1"
   ]
  },
  {
   "cell_type": "code",
   "execution_count": 12,
   "metadata": {},
   "outputs": [],
   "source": [
    "possible_labels = train.label.unique()\n",
    "\n",
    "label_dict = {}\n",
    "for index, possible_label in enumerate(possible_labels):\n",
    "    label_dict[possible_label] = index\n",
    "\n",
    "train['label'] = train.label.replace(label_dict)\n",
    "test['label']  = test.label.replace(label_dict)"
   ]
  },
  {
   "cell_type": "code",
   "execution_count": 13,
   "metadata": {},
   "outputs": [],
   "source": [
    "df = pd.concat([train, test])"
   ]
  },
  {
   "cell_type": "code",
   "execution_count": 14,
   "metadata": {},
   "outputs": [
    {
     "data": {
      "text/html": [
       "<div>\n",
       "<style scoped>\n",
       "    .dataframe tbody tr th:only-of-type {\n",
       "        vertical-align: middle;\n",
       "    }\n",
       "\n",
       "    .dataframe tbody tr th {\n",
       "        vertical-align: top;\n",
       "    }\n",
       "\n",
       "    .dataframe thead th {\n",
       "        text-align: right;\n",
       "    }\n",
       "</style>\n",
       "<table border=\"1\" class=\"dataframe\">\n",
       "  <thead>\n",
       "    <tr style=\"text-align: right;\">\n",
       "      <th></th>\n",
       "      <th>text</th>\n",
       "      <th>sentence</th>\n",
       "      <th>snp</th>\n",
       "      <th>phenotype</th>\n",
       "      <th>ASSOCIATION</th>\n",
       "      <th>CONFIDENCE</th>\n",
       "      <th>label</th>\n",
       "    </tr>\n",
       "  </thead>\n",
       "  <tbody>\n",
       "    <tr>\n",
       "      <th>0</th>\n",
       "      <td>OBJECTIVE: Maternal smoking during pregnancy i...</td>\n",
       "      <td>We examined whether a common genetic variant a...</td>\n",
       "      <td>rs1051730</td>\n",
       "      <td>nicotine metabolism</td>\n",
       "      <td>negative</td>\n",
       "      <td>zero</td>\n",
       "      <td>0</td>\n",
       "    </tr>\n",
       "    <tr>\n",
       "      <th>1</th>\n",
       "      <td>OBJECTIVE: Maternal smoking during pregnancy i...</td>\n",
       "      <td>We examined whether a common genetic variant a...</td>\n",
       "      <td>rs1051730</td>\n",
       "      <td>fetal growth characteristics</td>\n",
       "      <td>positive</td>\n",
       "      <td>weak</td>\n",
       "      <td>1</td>\n",
       "    </tr>\n",
       "    <tr>\n",
       "      <th>2</th>\n",
       "      <td>OBJECTIVE: Maternal smoking during pregnancy i...</td>\n",
       "      <td>RESULTS: Among mothers who did not smoke durin...</td>\n",
       "      <td>rs1051730</td>\n",
       "      <td>fetal growth characteristic</td>\n",
       "      <td>negative</td>\n",
       "      <td>-</td>\n",
       "      <td>0</td>\n",
       "    </tr>\n",
       "    <tr>\n",
       "      <th>3</th>\n",
       "      <td>OBJECTIVE: Maternal smoking during pregnancy i...</td>\n",
       "      <td>Among mothers who continued smoking during pre...</td>\n",
       "      <td>rs1051730</td>\n",
       "      <td>head circumference</td>\n",
       "      <td>negative</td>\n",
       "      <td>-</td>\n",
       "      <td>0</td>\n",
       "    </tr>\n",
       "    <tr>\n",
       "      <th>4</th>\n",
       "      <td>OBJECTIVE: Maternal smoking during pregnancy i...</td>\n",
       "      <td>The T-allele of maternal rs1051730 was associa...</td>\n",
       "      <td>rs1051730</td>\n",
       "      <td>second and third trimester fetal femur length</td>\n",
       "      <td>positive</td>\n",
       "      <td>weak</td>\n",
       "      <td>1</td>\n",
       "    </tr>\n",
       "    <tr>\n",
       "      <th>...</th>\n",
       "      <td>...</td>\n",
       "      <td>...</td>\n",
       "      <td>...</td>\n",
       "      <td>...</td>\n",
       "      <td>...</td>\n",
       "      <td>...</td>\n",
       "      <td>...</td>\n",
       "    </tr>\n",
       "    <tr>\n",
       "      <th>1294</th>\n",
       "      <td>Metabolic syndrome (MetS) is a common multifac...</td>\n",
       "      <td>Analysis of 4 SNPs revealed a significant diff...</td>\n",
       "      <td>rs10757274</td>\n",
       "      <td>MetS</td>\n",
       "      <td>negative</td>\n",
       "      <td>-</td>\n",
       "      <td>0</td>\n",
       "    </tr>\n",
       "    <tr>\n",
       "      <th>1295</th>\n",
       "      <td>Genetic variation in the androgen receptor (AR...</td>\n",
       "      <td>Minor alleles in three correlated ht SNPs (rs6...</td>\n",
       "      <td>rs6152</td>\n",
       "      <td>endometrial cancer</td>\n",
       "      <td>positive</td>\n",
       "      <td>weak</td>\n",
       "      <td>1</td>\n",
       "    </tr>\n",
       "    <tr>\n",
       "      <th>1296</th>\n",
       "      <td>Genetic variation in the androgen receptor (AR...</td>\n",
       "      <td>Minor alleles in three correlated ht SNPs (rs6...</td>\n",
       "      <td>rs1204038</td>\n",
       "      <td>endometrial cancer</td>\n",
       "      <td>positive</td>\n",
       "      <td>weak</td>\n",
       "      <td>1</td>\n",
       "    </tr>\n",
       "    <tr>\n",
       "      <th>1297</th>\n",
       "      <td>Genetic variation in the androgen receptor (AR...</td>\n",
       "      <td>Minor alleles in three correlated ht SNPs (rs6...</td>\n",
       "      <td>rs1337082</td>\n",
       "      <td>endometrial cancer</td>\n",
       "      <td>positive</td>\n",
       "      <td>weak</td>\n",
       "      <td>1</td>\n",
       "    </tr>\n",
       "    <tr>\n",
       "      <th>1298</th>\n",
       "      <td>The μ-opioid receptor (MOR) binds exogenous an...</td>\n",
       "      <td>Results revealed an association between rs6263...</td>\n",
       "      <td>rs62638690</td>\n",
       "      <td>addiction</td>\n",
       "      <td>positive</td>\n",
       "      <td>weak</td>\n",
       "      <td>1</td>\n",
       "    </tr>\n",
       "  </tbody>\n",
       "</table>\n",
       "<p>1299 rows × 7 columns</p>\n",
       "</div>"
      ],
      "text/plain": [
       "                                                   text  \\\n",
       "0     OBJECTIVE: Maternal smoking during pregnancy i...   \n",
       "1     OBJECTIVE: Maternal smoking during pregnancy i...   \n",
       "2     OBJECTIVE: Maternal smoking during pregnancy i...   \n",
       "3     OBJECTIVE: Maternal smoking during pregnancy i...   \n",
       "4     OBJECTIVE: Maternal smoking during pregnancy i...   \n",
       "...                                                 ...   \n",
       "1294  Metabolic syndrome (MetS) is a common multifac...   \n",
       "1295  Genetic variation in the androgen receptor (AR...   \n",
       "1296  Genetic variation in the androgen receptor (AR...   \n",
       "1297  Genetic variation in the androgen receptor (AR...   \n",
       "1298  The μ-opioid receptor (MOR) binds exogenous an...   \n",
       "\n",
       "                                               sentence         snp  \\\n",
       "0     We examined whether a common genetic variant a...   rs1051730   \n",
       "1     We examined whether a common genetic variant a...   rs1051730   \n",
       "2     RESULTS: Among mothers who did not smoke durin...   rs1051730   \n",
       "3     Among mothers who continued smoking during pre...   rs1051730   \n",
       "4     The T-allele of maternal rs1051730 was associa...   rs1051730   \n",
       "...                                                 ...         ...   \n",
       "1294  Analysis of 4 SNPs revealed a significant diff...  rs10757274   \n",
       "1295  Minor alleles in three correlated ht SNPs (rs6...      rs6152   \n",
       "1296  Minor alleles in three correlated ht SNPs (rs6...   rs1204038   \n",
       "1297  Minor alleles in three correlated ht SNPs (rs6...   rs1337082   \n",
       "1298  Results revealed an association between rs6263...  rs62638690   \n",
       "\n",
       "                                          phenotype ASSOCIATION CONFIDENCE  \\\n",
       "0                               nicotine metabolism    negative       zero   \n",
       "1                      fetal growth characteristics    positive       weak   \n",
       "2                       fetal growth characteristic    negative          -   \n",
       "3                                head circumference    negative          -   \n",
       "4     second and third trimester fetal femur length    positive       weak   \n",
       "...                                             ...         ...        ...   \n",
       "1294                                           MetS    negative          -   \n",
       "1295                             endometrial cancer    positive       weak   \n",
       "1296                             endometrial cancer    positive       weak   \n",
       "1297                             endometrial cancer    positive       weak   \n",
       "1298                                      addiction    positive       weak   \n",
       "\n",
       "      label  \n",
       "0         0  \n",
       "1         1  \n",
       "2         0  \n",
       "3         0  \n",
       "4         1  \n",
       "...     ...  \n",
       "1294      0  \n",
       "1295      1  \n",
       "1296      1  \n",
       "1297      1  \n",
       "1298      1  \n",
       "\n",
       "[1299 rows x 7 columns]"
      ]
     },
     "execution_count": 14,
     "metadata": {},
     "output_type": "execute_result"
    }
   ],
   "source": [
    "df.reset_index(drop=True, inplace=True)\n",
    "df"
   ]
  },
  {
   "cell_type": "code",
   "execution_count": 15,
   "metadata": {},
   "outputs": [
    {
     "data": {
      "text/html": [
       "<style>#sk-container-id-1 {color: black;background-color: white;}#sk-container-id-1 pre{padding: 0;}#sk-container-id-1 div.sk-toggleable {background-color: white;}#sk-container-id-1 label.sk-toggleable__label {cursor: pointer;display: block;width: 100%;margin-bottom: 0;padding: 0.3em;box-sizing: border-box;text-align: center;}#sk-container-id-1 label.sk-toggleable__label-arrow:before {content: \"▸\";float: left;margin-right: 0.25em;color: #696969;}#sk-container-id-1 label.sk-toggleable__label-arrow:hover:before {color: black;}#sk-container-id-1 div.sk-estimator:hover label.sk-toggleable__label-arrow:before {color: black;}#sk-container-id-1 div.sk-toggleable__content {max-height: 0;max-width: 0;overflow: hidden;text-align: left;background-color: #f0f8ff;}#sk-container-id-1 div.sk-toggleable__content pre {margin: 0.2em;color: black;border-radius: 0.25em;background-color: #f0f8ff;}#sk-container-id-1 input.sk-toggleable__control:checked~div.sk-toggleable__content {max-height: 200px;max-width: 100%;overflow: auto;}#sk-container-id-1 input.sk-toggleable__control:checked~label.sk-toggleable__label-arrow:before {content: \"▾\";}#sk-container-id-1 div.sk-estimator input.sk-toggleable__control:checked~label.sk-toggleable__label {background-color: #d4ebff;}#sk-container-id-1 div.sk-label input.sk-toggleable__control:checked~label.sk-toggleable__label {background-color: #d4ebff;}#sk-container-id-1 input.sk-hidden--visually {border: 0;clip: rect(1px 1px 1px 1px);clip: rect(1px, 1px, 1px, 1px);height: 1px;margin: -1px;overflow: hidden;padding: 0;position: absolute;width: 1px;}#sk-container-id-1 div.sk-estimator {font-family: monospace;background-color: #f0f8ff;border: 1px dotted black;border-radius: 0.25em;box-sizing: border-box;margin-bottom: 0.5em;}#sk-container-id-1 div.sk-estimator:hover {background-color: #d4ebff;}#sk-container-id-1 div.sk-parallel-item::after {content: \"\";width: 100%;border-bottom: 1px solid gray;flex-grow: 1;}#sk-container-id-1 div.sk-label:hover label.sk-toggleable__label {background-color: #d4ebff;}#sk-container-id-1 div.sk-serial::before {content: \"\";position: absolute;border-left: 1px solid gray;box-sizing: border-box;top: 0;bottom: 0;left: 50%;z-index: 0;}#sk-container-id-1 div.sk-serial {display: flex;flex-direction: column;align-items: center;background-color: white;padding-right: 0.2em;padding-left: 0.2em;position: relative;}#sk-container-id-1 div.sk-item {position: relative;z-index: 1;}#sk-container-id-1 div.sk-parallel {display: flex;align-items: stretch;justify-content: center;background-color: white;position: relative;}#sk-container-id-1 div.sk-item::before, #sk-container-id-1 div.sk-parallel-item::before {content: \"\";position: absolute;border-left: 1px solid gray;box-sizing: border-box;top: 0;bottom: 0;left: 50%;z-index: -1;}#sk-container-id-1 div.sk-parallel-item {display: flex;flex-direction: column;z-index: 1;position: relative;background-color: white;}#sk-container-id-1 div.sk-parallel-item:first-child::after {align-self: flex-end;width: 50%;}#sk-container-id-1 div.sk-parallel-item:last-child::after {align-self: flex-start;width: 50%;}#sk-container-id-1 div.sk-parallel-item:only-child::after {width: 0;}#sk-container-id-1 div.sk-dashed-wrapped {border: 1px dashed gray;margin: 0 0.4em 0.5em 0.4em;box-sizing: border-box;padding-bottom: 0.4em;background-color: white;}#sk-container-id-1 div.sk-label label {font-family: monospace;font-weight: bold;display: inline-block;line-height: 1.2em;}#sk-container-id-1 div.sk-label-container {text-align: center;}#sk-container-id-1 div.sk-container {/* jupyter's `normalize.less` sets `[hidden] { display: none; }` but bootstrap.min.css set `[hidden] { display: none !important; }` so we also need the `!important` here to be able to override the default hidden behavior on the sphinx rendered scikit-learn.org. See: https://github.com/scikit-learn/scikit-learn/issues/21755 */display: inline-block !important;position: relative;}#sk-container-id-1 div.sk-text-repr-fallback {display: none;}</style><div id=\"sk-container-id-1\" class=\"sk-top-container\"><div class=\"sk-text-repr-fallback\"><pre>CountVectorizer(lowercase=False, max_df=0.8)</pre><b>In a Jupyter environment, please rerun this cell to show the HTML representation or trust the notebook. <br />On GitHub, the HTML representation is unable to render, please try loading this page with nbviewer.org.</b></div><div class=\"sk-container\" hidden><div class=\"sk-item\"><div class=\"sk-estimator sk-toggleable\"><input class=\"sk-toggleable__control sk-hidden--visually\" id=\"sk-estimator-id-1\" type=\"checkbox\" checked><label for=\"sk-estimator-id-1\" class=\"sk-toggleable__label sk-toggleable__label-arrow\">CountVectorizer</label><div class=\"sk-toggleable__content\"><pre>CountVectorizer(lowercase=False, max_df=0.8)</pre></div></div></div></div></div>"
      ],
      "text/plain": [
       "CountVectorizer(lowercase=False, max_df=0.8)"
      ]
     },
     "execution_count": 15,
     "metadata": {},
     "output_type": "execute_result"
    }
   ],
   "source": [
    "bow_vectorizer = CountVectorizer(lowercase=False, \n",
    "                                 ngram_range=(1, 1),\n",
    "                                 max_df=.80,\n",
    "                                 min_df=1)\n",
    "bow_vectorizer.fit(df['sentence'])"
   ]
  },
  {
   "cell_type": "code",
   "execution_count": 16,
   "metadata": {},
   "outputs": [],
   "source": [
    "train_bow_df  = vectorize_bow(list(train['sentence']), bow_vectorizer)\n",
    "test_bow_df   = vectorize_bow(list(test['sentence']), bow_vectorizer)"
   ]
  },
  {
   "cell_type": "code",
   "execution_count": 17,
   "metadata": {},
   "outputs": [],
   "source": [
    "X_train = train_bow_df\n",
    "y_train = train['label']"
   ]
  },
  {
   "cell_type": "code",
   "execution_count": 18,
   "metadata": {},
   "outputs": [],
   "source": [
    "X_test = test_bow_df\n",
    "y_test = test['label']"
   ]
  },
  {
   "cell_type": "code",
   "execution_count": 19,
   "metadata": {},
   "outputs": [
    {
     "data": {
      "text/plain": [
       "(934, 2902)"
      ]
     },
     "execution_count": 19,
     "metadata": {},
     "output_type": "execute_result"
    }
   ],
   "source": [
    "X_train.shape"
   ]
  },
  {
   "cell_type": "code",
   "execution_count": 20,
   "metadata": {},
   "outputs": [
    {
     "data": {
      "text/plain": [
       "(934,)"
      ]
     },
     "execution_count": 20,
     "metadata": {},
     "output_type": "execute_result"
    }
   ],
   "source": [
    "y_train.shape"
   ]
  },
  {
   "cell_type": "code",
   "execution_count": 21,
   "metadata": {},
   "outputs": [
    {
     "data": {
      "text/plain": [
       "(365, 2902)"
      ]
     },
     "execution_count": 21,
     "metadata": {},
     "output_type": "execute_result"
    }
   ],
   "source": [
    "X_test.shape"
   ]
  },
  {
   "cell_type": "code",
   "execution_count": 22,
   "metadata": {},
   "outputs": [
    {
     "data": {
      "text/plain": [
       "(365,)"
      ]
     },
     "execution_count": 22,
     "metadata": {},
     "output_type": "execute_result"
    }
   ],
   "source": [
    "y_test.shape"
   ]
  },
  {
   "cell_type": "code",
   "execution_count": 23,
   "metadata": {},
   "outputs": [
    {
     "data": {
      "text/plain": [
       "0    195\n",
       "1    170\n",
       "Name: label, dtype: int64"
      ]
     },
     "execution_count": 23,
     "metadata": {},
     "output_type": "execute_result"
    }
   ],
   "source": [
    "test['label'].value_counts()"
   ]
  },
  {
   "cell_type": "code",
   "execution_count": 24,
   "metadata": {},
   "outputs": [],
   "source": [
    "X = vectorize_bow(list(df['sentence']), bow_vectorizer)\n",
    "y = df['label']"
   ]
  },
  {
   "cell_type": "code",
   "execution_count": 25,
   "metadata": {},
   "outputs": [],
   "source": [
    "k = 5\n",
    "kf = KFold(n_splits=k, random_state=1, shuffle=True)"
   ]
  },
  {
   "cell_type": "code",
   "execution_count": 26,
   "metadata": {},
   "outputs": [],
   "source": [
    "def kfold_test(model, model_name, feature_type, target_type, idx):\n",
    "    pre_scores = []\n",
    "    rec_scores = []\n",
    "    f1_scores  = []\n",
    "\n",
    "    for train_index , test_index in kf.split(X):\n",
    "        X_train , X_test = X.iloc[train_index,:],X.iloc[test_index,:]\n",
    "        y_train , y_test = y[train_index] , y[test_index]\n",
    "\n",
    "        model.fit(X_train,y_train)\n",
    "        pred_values = model.predict(X_test)\n",
    "\n",
    "        res_pre = precision_score(y_test, pred_values, average='weighted')\n",
    "        res_rec = recall_score(y_test, pred_values, average='weighted')\n",
    "        res_f1 = f1_score(y_test, pred_values, average='weighted')\n",
    "        \n",
    "        pre_scores.append(res_pre)\n",
    "        rec_scores.append(res_rec)\n",
    "        f1_scores.append(res_f1)\n",
    "\n",
    "    avg_pre_score = sum(pre_scores)/k\n",
    "    avg_rec_score = sum(rec_scores)/k\n",
    "    avg_f1_score  = sum(f1_scores)/k\n",
    "    \n",
    "    std_pre_score = std(pre_scores)\n",
    "    std_rec_score = std(rec_scores)\n",
    "    std_f1_score  = std(f1_scores)\n",
    "\n",
    "    print('precision of each fold - {}'.format(pre_scores))\n",
    "    print('Avg precision : {}'.format(avg_pre_score))\n",
    "    \n",
    "    print('recall of each fold - {}'.format(rec_scores))\n",
    "    print('Avg recall : {}'.format(avg_rec_score))\n",
    "\n",
    "    print('f1 of each fold - {}'.format(f1_scores))\n",
    "    print('Avg f1 : {}'.format(avg_f1_score))\n",
    "    \n",
    "    res.at[idx, 'model-name'] = model_name\n",
    "    res.at[idx, 'feature-type'] = feature_type\n",
    "    res.at[idx, 'target-type'] = target_type\n",
    "    \n",
    "    res.at[idx, 'precision'] = avg_pre_score\n",
    "    res.at[idx, 'precision-std'] = std_pre_score\n",
    "\n",
    "    res.at[idx, 'recall'] = avg_rec_score\n",
    "    res.at[idx, 'recall-std'] = std_rec_score\n",
    "\n",
    "    res.at[idx, 'f1-score'] = avg_f1_score\n",
    "    res.at[idx, 'f1-score-std'] = std_f1_score"
   ]
  },
  {
   "cell_type": "code",
   "execution_count": 27,
   "metadata": {},
   "outputs": [
    {
     "name": "stdout",
     "output_type": "stream",
     "text": [
      "precision of each fold - [0.9109919028340082, 0.8796984265734266, 0.8685925887018409, 0.8930873795235498, 0.8829367947015005]\n",
      "Avg precision : 0.8870614184668654\n",
      "recall of each fold - [0.9115384615384615, 0.8730769230769231, 0.8692307692307693, 0.8923076923076924, 0.8841698841698842]\n",
      "Avg recall : 0.886064746064746\n",
      "f1 of each fold - [0.9099397879567563, 0.8700519017739562, 0.8634967847093745, 0.8896189620575942, 0.8820002391430962]\n",
      "Avg f1 : 0.8830215351281554\n",
      "Wall time: 9.28 s\n"
     ]
    }
   ],
   "source": [
    "%%time\n",
    "smodel = SVC(kernel='rbf')\n",
    "kfold_test(smodel, 'svm', feature_type, target_type, len(res))"
   ]
  },
  {
   "cell_type": "code",
   "execution_count": 28,
   "metadata": {},
   "outputs": [
    {
     "name": "stdout",
     "output_type": "stream",
     "text": [
      "precision of each fold - [0.9145833215937971, 0.8744873785634655, 0.8726098406098406, 0.8834615384615384, 0.8987157882185507]\n",
      "Avg precision : 0.8887715734894386\n",
      "recall of each fold - [0.9153846153846154, 0.8730769230769231, 0.8730769230769231, 0.8846153846153846, 0.8996138996138996]\n",
      "Avg recall : 0.889153549153549\n",
      "f1 of each fold - [0.9144043742298892, 0.8714432853846033, 0.8728286304768293, 0.883507956205526, 0.8989198895623476]\n",
      "Avg f1 : 0.888220827171839\n",
      "Wall time: 3.68 s\n"
     ]
    }
   ],
   "source": [
    "%%time\n",
    "lr = LogisticRegression(random_state=0,\n",
    "                        penalty='l2',\n",
    "                        solver='newton-cg',\n",
    "                        C=1.2,\n",
    "                        max_iter=20)\n",
    "kfold_test(lr, 'LogisticRegression', feature_type, target_type, len(res))"
   ]
  },
  {
   "cell_type": "code",
   "execution_count": 29,
   "metadata": {},
   "outputs": [
    {
     "name": "stdout",
     "output_type": "stream",
     "text": [
      "precision of each fold - [0.911551423453997, 0.8800285068765258, 0.8667138009049774, 0.8959861399861401, 0.8668058019409371]\n",
      "Avg precision : 0.8842171346325156\n",
      "recall of each fold - [0.9115384615384615, 0.8769230769230769, 0.8692307692307693, 0.8961538461538462, 0.8687258687258688]\n",
      "Avg recall : 0.8845144045144044\n",
      "f1 of each fold - [0.9095330687440991, 0.8748680324798217, 0.8669894526277506, 0.8941972645254708, 0.8668104082468723]\n",
      "Avg f1 : 0.8824796453248028\n",
      "Wall time: 8.18 s\n"
     ]
    }
   ],
   "source": [
    "%%time\n",
    "rf_model = RandomForestClassifier(n_estimators=100)\n",
    "kfold_test(rf_model, 'RandomForest', feature_type, target_type, len(res))"
   ]
  },
  {
   "cell_type": "code",
   "execution_count": 30,
   "metadata": {},
   "outputs": [
    {
     "name": "stdout",
     "output_type": "stream",
     "text": [
      "precision of each fold - [0.7460587509843836, 0.8742108262108261, 0.7998223998223999, 0.7538461538461538, 0.8440231831156574]\n",
      "Avg precision : 0.8035922627958841\n",
      "recall of each fold - [0.7307692307692307, 0.8615384615384616, 0.7730769230769231, 0.7538461538461538, 0.8185328185328186]\n",
      "Avg recall : 0.7875527175527176\n",
      "f1 of each fold - [0.7363107355088111, 0.8627839926190751, 0.7804249084249084, 0.7538461538461538, 0.8236399664971095]\n",
      "Avg f1 : 0.7914011513792116\n",
      "Wall time: 906 ms\n"
     ]
    }
   ],
   "source": [
    "%%time\n",
    "knn_model = KNeighborsClassifier(n_neighbors=2)\n",
    "kfold_test(knn_model, 'knn', feature_type, target_type, len(res))"
   ]
  },
  {
   "cell_type": "code",
   "execution_count": 31,
   "metadata": {},
   "outputs": [
    {
     "name": "stdout",
     "output_type": "stream",
     "text": [
      "precision of each fold - [0.836140848398913, 0.8187439229810601, 0.8373522729442313, 0.8505004498425551, 0.8254865652824838]\n",
      "Avg precision : 0.8336448118898486\n",
      "recall of each fold - [0.8076923076923077, 0.8076923076923077, 0.8076923076923077, 0.8307692307692308, 0.7915057915057915]\n",
      "Avg recall : 0.8090703890703892\n",
      "f1 of each fold - [0.8138387880235705, 0.8093561089235206, 0.8144273099920646, 0.83465454916976, 0.7979739680770609]\n",
      "Avg f1 : 0.8140501448371953\n",
      "Wall time: 975 ms\n"
     ]
    }
   ],
   "source": [
    "%%time\n",
    "nb_model = GaussianNB()\n",
    "kfold_test(nb_model, 'GaussianNB', feature_type, target_type, len(res))"
   ]
  },
  {
   "cell_type": "code",
   "execution_count": 32,
   "metadata": {},
   "outputs": [
    {
     "name": "stdout",
     "output_type": "stream",
     "text": [
      "precision of each fold - [0.8923945674747599, 0.8806089743589745, 0.833995841995842, 0.8917728105228107, 0.9024711656290604]\n",
      "Avg precision : 0.8802486719962894\n",
      "recall of each fold - [0.8884615384615384, 0.8807692307692307, 0.8346153846153846, 0.8923076923076924, 0.8996138996138996]\n",
      "Avg recall : 0.8791535491535492\n",
      "f1 of each fold - [0.8897278308545915, 0.8806756790341153, 0.8342918518334445, 0.8919819004524888, 0.9005200216153563]\n",
      "Avg f1 : 0.8794394567579993\n",
      "Wall time: 1.56 s\n"
     ]
    }
   ],
   "source": [
    "%%time\n",
    "dt_model = DecisionTreeClassifier(random_state=0)\n",
    "kfold_test(dt_model, 'DecisionTree', feature_type, target_type, len(res))"
   ]
  },
  {
   "cell_type": "code",
   "execution_count": 33,
   "metadata": {},
   "outputs": [
    {
     "name": "stdout",
     "output_type": "stream",
     "text": [
      "precision of each fold - [0.9068052668052669, 0.862994993172508, 0.8494414414414414, 0.8914060298675683, 0.879350145805842]\n",
      "Avg precision : 0.8779995754185252\n",
      "recall of each fold - [0.9076923076923077, 0.8615384615384616, 0.85, 0.8923076923076924, 0.8803088803088803]\n",
      "Avg recall : 0.8783694683694684\n",
      "f1 of each fold - [0.9069979201126743, 0.8595848595848598, 0.8497065632907984, 0.8908910765857874, 0.8796966495176214]\n",
      "Avg f1 : 0.8773754138183483\n",
      "Wall time: 18.4 s\n"
     ]
    }
   ],
   "source": [
    "%%time\n",
    "gb_model = GradientBoostingClassifier(n_estimators=100, learning_rate=1.0, max_depth=1, random_state=0)\n",
    "kfold_test(gb_model, 'GradientBoosting', feature_type, target_type, len(res))"
   ]
  },
  {
   "cell_type": "code",
   "execution_count": 34,
   "metadata": {},
   "outputs": [],
   "source": [
    "import os\n",
    "os.remove(\"res.xlsx\") \n",
    "\n",
    "res.to_excel('res.xlsx', index=False)"
   ]
  },
  {
   "cell_type": "code",
   "execution_count": null,
   "metadata": {},
   "outputs": [],
   "source": []
  },
  {
   "cell_type": "code",
   "execution_count": null,
   "metadata": {},
   "outputs": [],
   "source": []
  }
 ],
 "metadata": {
  "colab": {
   "name": "deep.ipynb",
   "provenance": [],
   "toc_visible": true
  },
  "kernelspec": {
   "display_name": "Python 3 (ipykernel)",
   "language": "python",
   "name": "python3"
  },
  "language_info": {
   "codemirror_mode": {
    "name": "ipython",
    "version": 3
   },
   "file_extension": ".py",
   "mimetype": "text/x-python",
   "name": "python",
   "nbconvert_exporter": "python",
   "pygments_lexer": "ipython3",
   "version": "3.9.6"
  }
 },
 "nbformat": 4,
 "nbformat_minor": 1
}
